{
 "cells": [
  {
   "cell_type": "code",
   "execution_count": 1,
   "id": "7c423eca-bbe4-4fef-a082-f6c721e69be7",
   "metadata": {},
   "outputs": [],
   "source": [
    "import numpy as np\n",
    "import torch\n",
    "import torch.nn as nn\n",
    "import matplotlib.pyplot as plt\n",
    "\n",
    "from pandas import read_csv\n",
    "\n",
    "import data"
   ]
  },
  {
   "cell_type": "code",
   "execution_count": 2,
   "id": "2290aa66-5c27-4c01-8393-f269081dc08d",
   "metadata": {},
   "outputs": [
    {
     "data": {
      "text/plain": [
       "<torch._C.Generator at 0x20b95048830>"
      ]
     },
     "execution_count": 2,
     "metadata": {},
     "output_type": "execute_result"
    }
   ],
   "source": [
    "device = torch.device('cuda:0' if torch.cuda.is_available() else 'cpu')\n",
    "torch.cuda.set_device(device)\n",
    "torch.manual_seed(441)"
   ]
  },
  {
   "cell_type": "code",
   "execution_count": 3,
   "id": "064d1e3a-2f79-4000-b346-79a862a7c97d",
   "metadata": {},
   "outputs": [],
   "source": [
    "class Data(torch.utils.data.Dataset):\n",
    "    def __init__(self, n=300):\n",
    "        super().__init__()\n",
    "\n",
    "        # X_train_data = read_csv('../X_train_nostring.csv')\n",
    "        # X_train_data.fillna(-3, inplace=True)\n",
    "\n",
    "        # self.X_train = X_train_data.values[:,1:]\n",
    "\n",
    "        y_train_data = read_csv('../y_train.csv')\n",
    "        self.y_train = y_train_data.values[:,1]\n",
    "        for i in range(len(self.y_train)):\n",
    "            if self.y_train[i] == -1:\n",
    "                self.y_train[i] = 0\n",
    "\n",
    "        self.ds = data.Dataset()\n",
    "        self.X_train = self.ds.getTrain().values\n",
    "        \n",
    "\n",
    "        \n",
    "    def __len__(self):\n",
    "        return len(self.X_train)\n",
    "    \n",
    "    def __getitem__(self, idx):\n",
    "        x = torch.tensor(self.X_train[idx], dtype=torch.float32)\n",
    "        y = self.y_train[idx]\n",
    "        return x, y\n",
    "    \n",
    "    # def inputs(self):\n",
    "    #     return torch.tensor(self.np_ds.inputs(), dtype=torch.float32)\n",
    "    \n",
    "    # def targets(self):\n",
    "    #     return torch.tensor(self.np_ds.targets(), dtype=torch.float32)\n",
    "    \n",
    "    # def classes(self):\n",
    "    #     return torch.tensor(self.np_ds.classes().squeeze(), dtype=torch.int)\n",
    "    \n",
    "    # def plot(self, labels=None, *args, **kwargs):\n",
    "    #     if labels is not None:\n",
    "    #         self.np_ds.plot(labels=labels.detach().numpy(), *args, **kwargs)\n",
    "    #     else:\n",
    "    #         self.np_ds.plot(labels=labels, *args, **kwargs)"
   ]
  },
  {
   "cell_type": "code",
   "execution_count": 4,
   "id": "2bf4a06c-3e2e-4033-b27f-56da502ad6ca",
   "metadata": {},
   "outputs": [
    {
     "data": {
      "text/plain": [
       "(48000, 1180)"
      ]
     },
     "execution_count": 4,
     "metadata": {},
     "output_type": "execute_result"
    }
   ],
   "source": [
    "ds = Data()\n",
    "ds.X_train.shape"
   ]
  },
  {
   "cell_type": "code",
   "execution_count": 5,
   "id": "cdd02267-2ac9-4e53-97ef-ab7f1af7b2a7",
   "metadata": {},
   "outputs": [],
   "source": [
    "# Batched, for training\n",
    "batch_size_train = 250\n",
    "train_dl = torch.utils.data.DataLoader(ds, batch_size=batch_size_train, shuffle=True)"
   ]
  },
  {
   "cell_type": "code",
   "execution_count": 6,
   "id": "c3db9fd3-a656-4e6f-a0aa-f793ce523b4c",
   "metadata": {},
   "outputs": [
    {
     "data": {
      "text/plain": [
       "Sequential(\n",
       "  (0): BatchNorm1d(1180, eps=1e-05, momentum=0.1, affine=True, track_running_stats=True)\n",
       "  (1): Linear(in_features=1180, out_features=256, bias=True)\n",
       "  (2): BatchNorm1d(256, eps=1e-05, momentum=0.1, affine=True, track_running_stats=True)\n",
       "  (3): ReLU()\n",
       "  (4): Linear(in_features=256, out_features=128, bias=True)\n",
       "  (5): BatchNorm1d(128, eps=1e-05, momentum=0.1, affine=True, track_running_stats=True)\n",
       "  (6): ReLU()\n",
       "  (7): Linear(in_features=128, out_features=5, bias=True)\n",
       "  (8): LogSoftmax(dim=1)\n",
       ")"
      ]
     },
     "execution_count": 6,
     "metadata": {},
     "output_type": "execute_result"
    }
   ],
   "source": [
    "net = nn.Sequential(\n",
    "    nn.BatchNorm1d(1180),\n",
    "    nn.Linear(1180, 256),\n",
    "    # nn.BatchNorm1d(512),\n",
    "    # nn.ReLU(),\n",
    "    # nn.Linear(512, 256),\n",
    "    nn.BatchNorm1d(256),\n",
    "    nn.ReLU(),\n",
    "    nn.Linear(256, 128),\n",
    "    nn.BatchNorm1d(128),\n",
    "    nn.ReLU(),\n",
    "    nn.Linear(128, 5),\n",
    "    nn.LogSoftmax(dim=1)\n",
    ")\n",
    "\n",
    "net.to(device)"
   ]
  },
  {
   "cell_type": "code",
   "execution_count": 7,
   "id": "bf8e96c0-1c96-4ab5-b342-206ddca6bf44",
   "metadata": {},
   "outputs": [],
   "source": [
    "# Train it\n",
    "loss_fcn = nn.NLLLoss(reduction='mean')\n",
    "optim = torch.optim.SGD(net.parameters(), lr=0.1, momentum=0.9)\n",
    "\n",
    "def train(net, dl, epochs=100):\n",
    "    losses = []\n",
    "    for epoch in range(epochs):\n",
    "        epoch_loss = 0.0\n",
    "        for data in dl:\n",
    "            x, t = data\n",
    "            y = net(x.to(device))\n",
    "\n",
    "            loss = loss_fcn(y, t.to(device))\n",
    "            epoch_loss += loss.item()\n",
    "            \n",
    "            optim.zero_grad()\n",
    "            loss.backward()\n",
    "            optim.step()\n",
    "            \n",
    "        epoch_loss /= len(dl)\n",
    "        losses.append(epoch_loss)\n",
    "    \n",
    "    plt.figure(figsize=(4,4))\n",
    "    plt.plot(losses);\n",
    "    \n",
    "    return losses[-1]\n"
   ]
  },
  {
   "cell_type": "code",
   "execution_count": 8,
   "id": "e6484f2e-d2da-4b82-9e80-7a5ceb71faf3",
   "metadata": {},
   "outputs": [
    {
     "data": {
      "image/png": "[encoded data removed]",
      "text/plain": [
       "<Figure size 400x400 with 1 Axes>"
      ]
     },
     "metadata": {},
     "output_type": "display_data"
    }
   ],
   "source": [
    "last = train(net, train_dl, 100)"
   ]
  },
  {
   "cell_type": "code",
   "execution_count": 9,
   "id": "860b1301-ca42-49aa-86c2-21eae455ae1f",
   "metadata": {},
   "outputs": [
    {
     "name": "stdout",
     "output_type": "stream",
     "text": [
      "0.012508214139719106\n"
     ]
    }
   ],
   "source": [
    "print(last)"
   ]
  },
  {
   "cell_type": "markdown",
   "id": "db48f7e1-3865-4de4-9c80-e6b7a95b3409",
   "metadata": {},
   "source": [
    "around 1 for softmax and CrossEntropyLoss\n",
    "around 0.0125 for logsoftmax and NLLLoss\r\n",
    "\n"
   ]
  },
  {
   "cell_type": "code",
   "execution_count": 11,
   "id": "4810633f-1ec9-468c-83da-7d8fb38d5044",
   "metadata": {},
   "outputs": [],
   "source": [
    "X_test = ds.ds.getTest().values\n",
    "\n",
    "prob = np.exp( net( torch.tensor(X_test, dtype=torch.float).to(device) ).cpu().detach().numpy() )"
   ]
  },
  {
   "cell_type": "code",
   "execution_count": 12,
   "id": "0b63cc04-7f93-464a-949b-81e3e500fed7",
   "metadata": {},
   "outputs": [],
   "source": [
    "test = np.c_[ np.ones(11438), prob ]              # add a column\n",
    "\n",
    "for i in range(len(test)):\n",
    "    test[i][0] = i\n",
    "\n",
    "np.savetxt('neural_net.csv', test, delimiter=',', header=\"id,no answer,very important,quite important,not important,not at all important\", comments=\"\", fmt='%1.4f') "
   ]
  },
  {
   "cell_type": "code",
   "execution_count": null,
   "id": "da1c7ef1-0317-405c-b0ec-b8d7e136fc15",
   "metadata": {},
   "outputs": [],
   "source": []
  }
 ],
 "metadata": {
  "kernelspec": {
   "display_name": "Python 3 (ipykernel)",
   "language": "python",
   "name": "python3"
  },
  "language_info": {
   "codemirror_mode": {
    "name": "ipython",
    "version": 3
   },
   "file_extension": ".py",
   "mimetype": "text/x-python",
   "name": "python",
   "nbconvert_exporter": "python",
   "pygments_lexer": "ipython3",
   "version": "3.12.1"
  }
 },
 "nbformat": 4,
 "nbformat_minor": 5
}
