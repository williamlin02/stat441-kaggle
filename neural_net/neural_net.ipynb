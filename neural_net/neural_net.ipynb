{
 "cells": [
  {
   "cell_type": "code",
   "execution_count": 1,
   "id": "7c423eca-bbe4-4fef-a082-f6c721e69be7",
   "metadata": {},
   "outputs": [],
   "source": [
    "import numpy as np\n",
    "import torch\n",
    "import torch.nn as nn\n",
    "import matplotlib.pyplot as plt\n",
    "\n",
    "from pandas import read_csv\n",
    "from sklearn.model_selection import train_test_split\n",
    "from sklearn.metrics import log_loss\n",
    "from sklearn.preprocessing import OneHotEncoder, MinMaxScaler\n",
    "\n",
    "import data"
   ]
  },
  {
   "cell_type": "code",
   "execution_count": 2,
   "id": "2290aa66-5c27-4c01-8393-f269081dc08d",
   "metadata": {},
   "outputs": [
    {
     "data": {
      "text/plain": [
       "<torch._C.Generator at 0x17e05dfc7f0>"
      ]
     },
     "execution_count": 2,
     "metadata": {},
     "output_type": "execute_result"
    }
   ],
   "source": [
    "device = torch.device('cuda:0' if torch.cuda.is_available() else 'cpu')\n",
    "torch.cuda.set_device(device)\n",
    "torch.manual_seed(441)"
   ]
  },
  {
   "cell_type": "code",
   "execution_count": 3,
   "id": "064d1e3a-2f79-4000-b346-79a862a7c97d",
   "metadata": {},
   "outputs": [],
   "source": [
    "class Data(torch.utils.data.Dataset):\n",
    "    def __init__(self, n=300):\n",
    "        super().__init__()\n",
    "\n",
    "        # X_train_data = read_csv('../X_train_nostring.csv')\n",
    "        # X_train_data.fillna(-3, inplace=True)\n",
    "\n",
    "        # self.X_train = X_train_data.values[:,1:]\n",
    "\n",
    "        y_train_data = read_csv('../y_train.csv')\n",
    "        self.y_train = y_train_data.values[:,1]\n",
    "        for i in range(len(self.y_train)):\n",
    "            if self.y_train[i] == -1:\n",
    "                self.y_train[i] = 0\n",
    "\n",
    "        #xgb: v30c, c_abrv_GE, v275b_N2_AZ-GYG, v281a_ka, v275b_N2_GE02, v275b_N2_AZ-SAT, v3, v281a_az, c_abrv_DK, c_abrv_CH, v281a_sr, v147\n",
    "        #forest: v60, v53, v154, v59, v55, v277 (big), v158, v156, v282 (big), v261_ppp, v155, v58\n",
    "        \n",
    "        #xgb importance\n",
    "        # cols = ['v147', 'v281a_sr', 'c_abrv_CH', 'c_abrv_DK', 'v281a_az', 'v62', 'v3', 'v275b_N2_AZ-SAT', 'v275b_N2_GE02', 'v281a_ka', 'v52_cs', 'v196', 'v52', 'v275b_N2_AZ-GYG', 'c_abrv_GE', \n",
    "        #         'v30c', 'v5', 'v115','v51', 'v57', 'v54', 'v64', 'v56', 'v93', 'v63']\n",
    "\n",
    "        #random forest importance only change is v275c_N2 -> v58\n",
    "        # cols = ['v58', 'v155', 'v261_ppp', 'v196', 'v282', 'v156', 'v158', 'v277', 'v55', 'v59', 'v154', 'v5', 'v93', 'v53', 'v51', 'v60', 'v52', 'v62', \n",
    "        #         'v52_cs', 'v115', 'v57', 'v56', 'v54', 'v64', 'v63']\n",
    "\n",
    "        #intersection\n",
    "        cols  = ['v196', 'v5', 'v63', 'v52', 'v57', 'v51', 'v115', 'v93', 'v56', 'v54', 'v62', 'v64']\n",
    "\n",
    "        #merge\n",
    "        # cols = ['v5', 'v51', 'v52', 'v53', 'v54', 'v55', 'v56', 'v57', 'v59', 'v60', 'v62', 'v63', 'v64', 'v93', 'v115', 'v147', 'v154', 'v156', 'v158', 'v196']\n",
    "\n",
    "        scaler =  MinMaxScaler(feature_range=(-1, 1))\n",
    "        self.ds = data.Dataset()\n",
    "\n",
    "        \n",
    "        X_train_temp = self.ds.getTrain().loc[:, cols].values\n",
    "        # X_train_temp = X_train_data.loc[:, cols].values\n",
    "        scaled = scaler.fit_transform( X_train_temp )\n",
    "        \n",
    "        X_train, X_val, y_train, y_val = train_test_split(scaled, self.y_train, test_size=0.25, random_state=441)\n",
    "\n",
    "\n",
    "        self.X_train = X_train\n",
    "        self.X_val = X_val\n",
    "        self.y_train = y_train\n",
    "        self.y_val = y_val\n",
    "        \n",
    "        self.X_test = scaler.fit_transform( self.ds.getTest().loc[:, cols].values )\n",
    "\n",
    "        # X_test_data = read_csv('../X_test_nostring.csv')\n",
    "        # X_test_data.fillna(-3, inplace=True)\n",
    "        # self.X_test = X_test_data.loc[:, cols].values\n",
    "\n",
    "        \n",
    "    def __len__(self):\n",
    "        return len(self.X_train)\n",
    "    \n",
    "    def __getitem__(self, idx):\n",
    "        x = torch.tensor(self.X_train[idx], dtype=torch.float32)\n",
    "        y = self.y_train[idx]\n",
    "        return x, y"
   ]
  },
  {
   "cell_type": "code",
   "execution_count": 4,
   "id": "2bf4a06c-3e2e-4033-b27f-56da502ad6ca",
   "metadata": {},
   "outputs": [
    {
     "data": {
      "text/plain": [
       "(36000, 12)"
      ]
     },
     "execution_count": 4,
     "metadata": {},
     "output_type": "execute_result"
    }
   ],
   "source": [
    "ds = Data()\n",
    "ds.X_train.shape"
   ]
  },
  {
   "cell_type": "code",
   "execution_count": 5,
   "id": "cdd02267-2ac9-4e53-97ef-ab7f1af7b2a7",
   "metadata": {},
   "outputs": [],
   "source": [
    "# Batched, for training\n",
    "batch_size_train = 36000\n",
    "train_dl = torch.utils.data.DataLoader(ds, batch_size=batch_size_train, shuffle=False)"
   ]
  },
  {
   "cell_type": "code",
   "execution_count": 6,
   "id": "c3db9fd3-a656-4e6f-a0aa-f793ce523b4c",
   "metadata": {},
   "outputs": [
    {
     "data": {
      "text/plain": [
       "Sequential(\n",
       "  (0): BatchNorm1d(12, eps=1e-05, momentum=0.1, affine=True, track_running_stats=True)\n",
       "  (1): Linear(in_features=12, out_features=16, bias=True)\n",
       "  (2): BatchNorm1d(16, eps=1e-05, momentum=0.1, affine=True, track_running_stats=True)\n",
       "  (3): ReLU()\n",
       "  (4): Linear(in_features=16, out_features=8, bias=True)\n",
       "  (5): BatchNorm1d(8, eps=1e-05, momentum=0.1, affine=True, track_running_stats=True)\n",
       "  (6): ReLU()\n",
       "  (7): Linear(in_features=8, out_features=5, bias=True)\n",
       "  (8): Softmax(dim=1)\n",
       ")"
      ]
     },
     "execution_count": 6,
     "metadata": {},
     "output_type": "execute_result"
    }
   ],
   "source": [
    "net = nn.Sequential(\n",
    "    nn.BatchNorm1d(ds.X_train.shape[1]),\n",
    "    nn.Linear(ds.X_train.shape[1], 16),\n",
    "    nn.BatchNorm1d(16),\n",
    "    nn.ReLU(),\n",
    "    nn.Linear(16, 8),\n",
    "    nn.BatchNorm1d(8),\n",
    "    nn.ReLU(),\n",
    "    nn.Linear(8, 5),\n",
    "    nn.Softmax(dim=1)\n",
    ")\n",
    "\n",
    "net.to(device)"
   ]
  },
  {
   "cell_type": "code",
   "execution_count": 7,
   "id": "bf8e96c0-1c96-4ab5-b342-206ddca6bf44",
   "metadata": {},
   "outputs": [],
   "source": [
    "# Train it\n",
    "loss_fcn = nn.CrossEntropyLoss(reduction='mean')\n",
    "optim = torch.optim.SGD(net.parameters(), lr=0.1, momentum=0.9)\n",
    "\n",
    "def train(net, dl, epochs=100):\n",
    "    losses = []\n",
    "    for epoch in range(epochs):\n",
    "        epoch_loss = 0.0\n",
    "        for data in dl:\n",
    "            x, t = data\n",
    "            y = net(x.to(device))\n",
    "\n",
    "            loss = loss_fcn(y, t.to(device))\n",
    "            epoch_loss += loss.item()\n",
    "            \n",
    "            optim.zero_grad()\n",
    "            loss.backward()\n",
    "            optim.step()\n",
    "            \n",
    "        epoch_loss /= len(dl)\n",
    "        losses.append(epoch_loss)\n",
    "    \n",
    "    plt.figure(figsize=(4,4))\n",
    "    plt.plot(losses);\n",
    "    \n",
    "    return losses[-1]\n"
   ]
  },
  {
   "cell_type": "code",
   "execution_count": 8,
   "id": "e6484f2e-d2da-4b82-9e80-7a5ceb71faf3",
   "metadata": {},
   "outputs": [
    {
     "data": {
      "image/png": "[encoded data removed]",
      "text/plain": [
       "<Figure size 400x400 with 1 Axes>"
      ]
     },
     "metadata": {},
     "output_type": "display_data"
    }
   ],
   "source": [
    "last = train(net, train_dl, 100)"
   ]
  },
  {
   "cell_type": "code",
   "execution_count": 9,
   "id": "860b1301-ca42-49aa-86c2-21eae455ae1f",
   "metadata": {},
   "outputs": [
    {
     "name": "stdout",
     "output_type": "stream",
     "text": [
      "1.320102334022522\n"
     ]
    }
   ],
   "source": [
    "print(last)"
   ]
  },
  {
   "cell_type": "markdown",
   "id": "33f32a10-6f91-4a2b-8c14-aa65a37fc046",
   "metadata": {},
   "source": [
    "25 importance 100 epoch \n",
    "\n",
    "1.29 1.37 whole batch xgb cols \n",
    "\n",
    "1.3 1.37 whole batch forest no change cols"
   ]
  },
  {
   "cell_type": "markdown",
   "id": "7672f788-9899-4e85-ada0-c1c476d80e2f",
   "metadata": {},
   "source": [
    "25 importance merged (25 -> 128 -> 32 -> 5)\n",
    "\n",
    "1.29 1.38 \n",
    "\n",
    "1.33 1.44 (dropout)\n"
   ]
  },
  {
   "cell_type": "code",
   "execution_count": null,
   "id": "b6218c3c-1ee1-4067-9ac7-291c8be743b4",
   "metadata": {},
   "outputs": [],
   "source": []
  },
  {
   "cell_type": "code",
   "execution_count": 10,
   "id": "06e568a0-e7f9-47fb-a26e-729d739bdeeb",
   "metadata": {},
   "outputs": [],
   "source": [
    "X_val = ds.X_val\n",
    "y_val = ds.y_val\n",
    "\n",
    "val = net( torch.tensor(X_val, dtype=torch.float).to(device) ).cpu().detach().numpy()\n",
    "val_score = log_loss(y_val, val)"
   ]
  },
  {
   "cell_type": "code",
   "execution_count": 11,
   "id": "c1df0f6a-6cef-40e7-bc5c-4e0edf5a3dcd",
   "metadata": {},
   "outputs": [
    {
     "name": "stdout",
     "output_type": "stream",
     "text": [
      "1.3487295969861377\n"
     ]
    }
   ],
   "source": [
    "print(val_score)"
   ]
  },
  {
   "cell_type": "code",
   "execution_count": 12,
   "id": "4810633f-1ec9-468c-83da-7d8fb38d5044",
   "metadata": {},
   "outputs": [],
   "source": [
    "X_test = ds.X_test\n",
    "\n",
    "prob = net( torch.tensor(X_test, dtype=torch.float).to(device) ).cpu().detach().numpy()"
   ]
  },
  {
   "cell_type": "code",
   "execution_count": 13,
   "id": "0b63cc04-7f93-464a-949b-81e3e500fed7",
   "metadata": {},
   "outputs": [],
   "source": [
    "test = np.c_[ np.ones(11438), prob ]              # add a column\n",
    "\n",
    "for i in range(len(test)):\n",
    "    test[i][0] = i\n",
    "\n",
    "np.savetxt('neural_net.csv', test, delimiter=',', header=\"id,no answer,very important,quite important,not important,not at all important\", comments=\"\", fmt='%1.4f') "
   ]
  },
  {
   "cell_type": "code",
   "execution_count": null,
   "id": "40d941af-d461-4937-a049-22010bd1da5f",
   "metadata": {},
   "outputs": [],
   "source": []
  }
 ],
 "metadata": {
  "kernelspec": {
   "display_name": "Python 3 (ipykernel)",
   "language": "python",
   "name": "python3"
  },
  "language_info": {
   "codemirror_mode": {
    "name": "ipython",
    "version": 3
   },
   "file_extension": ".py",
   "mimetype": "text/x-python",
   "name": "python",
   "nbconvert_exporter": "python",
   "pygments_lexer": "ipython3",
   "version": "3.12.1"
  }
 },
 "nbformat": 4,
 "nbformat_minor": 5
}
