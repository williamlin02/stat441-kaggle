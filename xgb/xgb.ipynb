{
 "cells": [
  {
   "cell_type": "code",
   "execution_count": 1,
   "id": "86b46d30-edb2-459b-8c1c-374f5fe6e22c",
   "metadata": {},
   "outputs": [],
   "source": [
    "from pandas import read_csv\n",
    "from sklearn.model_selection import GridSearchCV, KFold, StratifiedKFold\n",
    "from sklearn.ensemble import RandomForestClassifier\n",
    "from sklearn.linear_model import LogisticRegressionCV\n",
    "from sklearn.preprocessing import StandardScaler\n",
    "\n",
    "import xgboost as xgb\n",
    "import matplotlib.pyplot as plt\n",
    "import math\n",
    "import numpy as np\n",
    "\n",
    "import data"
   ]
  },
  {
   "cell_type": "code",
   "execution_count": 2,
   "id": "b080b061-a727-40b1-9971-dc4a48dd67aa",
   "metadata": {},
   "outputs": [],
   "source": [
    "# X_train = read_csv('../X_train_nostring.csv')\n",
    "# X_train.fillna(-3, inplace=True)\n",
    "# X_train = X_train.values[:,1:]\n",
    "\n",
    "y_train_data = read_csv('../y_train.csv')\n",
    "y_train = y_train_data.values[:,1]\n",
    "for i in range(len(y_train)):\n",
    "    if y_train[i] == -1:\n",
    "        y_train[i] = 0\n",
    "\n",
    "# scaler = StandardScaler()\n",
    "\n",
    "# X_train = scaler.fit_transform(X_train, y_train)"
   ]
  },
  {
   "cell_type": "code",
   "execution_count": 3,
   "id": "6d2a0918-9bc3-4bf4-b60f-ff841ad2ce9b",
   "metadata": {},
   "outputs": [],
   "source": [
    "# X_test_data = read_csv('../X_test_nostring.csv')\n",
    "# X_test_data.fillna(-3, inplace=True)\n",
    "# X_test = X_test_data.values[:,1:]\n",
    "\n",
    "# X_test = scaler.fit_transform(X_test)"
   ]
  },
  {
   "cell_type": "code",
   "execution_count": 4,
   "id": "06342221-38bf-4323-a1ea-abdf749db3eb",
   "metadata": {},
   "outputs": [],
   "source": [
    "dataset = data.Dataset()\n",
    "#top 700 rf features\n",
    "cols=['v275b_N2_UKD3', 'v233b_SK', 'v275b_N2_ES11', 'v275b_N2_NO06', 'v275b_N2_ES52', 'v275b_N2_UKI7', 'v275b_N2_ES70', 'v233b_ES', 'v233b_14', 'v233b_XK', 'v275b_N2_FRG0', 'v231b_ES', 'v233b_FR', 'v275b_N2_UKG2', 'v228b_FR', 'v231b_BY', 'v233b_TR', 'v275b_N2_NL11', 'v275b_N2_PL61', 'v228b_PL', 'v233b_RO', 'v275b_N2_FRL0', 'v275b_N2_UA62', 'v275b_N2_UA83', 'v275b_N2_UA53', 'v231b_MA', 'v275b_N2_PL41', 'v275b_N2_UKM9', 'v275b_N2_PL92', 'v233b_PT', 'v275b_N2_ITC3', 'v231b_HR', 'v228b_34', 'v231b_SK', 'v275b_N2_PL71', 'v275b_N2_RU51', 'v228b_UA', 'v275b_N2_PL21', 'v275b_N2_AZ-ZAR', 'v275b_N2_AZ-MAS', 'v275b_N2_FRD1', 'v275b_N2_FRH0', 'v228b_35', 'v275b_N2_UA21', 'v231b_XK', 'v275b_N2_PL22', 'v275b_N2_UA42', 'v275b_N2_HU22', 'v233b_RS', 'v275b_N2_RU71', 'v275b_N2_CZ01', 'v228b_IT', 'v275b_N2_AZ-QAZ', 'v275b_N2_RO11', 'v275b_N2_NO07', 'v275b_N2_UA63', 'v275b_N2_AZ-AGU', 'v233b_35', 'v275b_N2_BY07', 'v275b_N2_AZ-SAT', 'v231b_RS', 'v275b_N2_ES51', 'v275b_N2_UA31', 'v251b_DE', 'v275b_N2_RO12', 'v275b_N2_FRC1', 'v275b_N2_PL91', 'v275b_N2_UA41', 'v231b_TR', 'v275b_N2_HU31', 'v275b_N2_AZ-GA', 'v233b_5', 'v275b_N2_ITF3', 'v275b_N2_AZ-MI', 'v275b_N2_CZ02', 'v231b_PL', 'v275b_N2_ITH5', 'v275b_N2_RO32', 'v275b_N2_AZ-TOV', 'v275b_N2_NL21', 'v275b_N2_CH07', 'v231b_5', 'v275b_N2_BG31', 'v275b_N2_ES61', 'v275b_N2_AZ-SMX', 'v275b_N2_ITI1', 'v275b_N2_AT32', 'v251b_-1', 'v275b_N2_RO41', 'v233b_IT', 'v231b_34', 'v275b_N2_ITI4', 'v228b_BA', 'v275b_N2_UKF1', 'v275b_N2_FRE1', 'v275b_N2_HU21', 'v275b_N2_RO31', 'v275b_N2_ITC1', 'v251b_RU', 'v275b_N2_UA72', 'v275b_N2_AT21', 'v275b_N2_NO03', 'v233b_UA', 'v275b_N2_RO22', 'v275b_N2_BG32', 'v275b_N2_AT33', 'v275b_N2_CZ08', 'v275b_N2_FRK2', 'v275b_N2_FI1D', 'v275b_N2_CZ07', 'v233b_PL', 'v275b_N2_NL22', 'v275b_N2_HU23', 'v275b_N2_NO05', 'v228b_5', 'v275b_N2_FRI1', 'v275b_N2_UA71', 'v275b_N2_RU21', 'v275b_N2_RO42', 'v233b_34', 'v275b_N2_FI1B', 'v275b_N2_ITF4', 'v275b_N2_DK05', 'v231b_35', 'v275b_N2_FI19', 'v275b_N2_BY04', 'v275b_N2_HU33', 'v275b_N2_FI1C', 'v275b_N2_BY06', 'v231b_IT', 'v275b_N2_HU12', 'v275b_N2_BY02', 'v275b_N2_AM03', 'v275b_N2_BY01', 'v275b_N2_ITG1', 'v275b_N2_HU11', 'v275b_N2_NL41', 'v275b_N2_AZ-QUS', 'v275b_N2_AT31', 'v275b_N2_BY03', 'v275b_N2_PT16', 'v275b_N2_NL32', 'v275b_N2_BG42', 'v231b_DE', 'v275b_N2_CH03', 'v231b_UA', 'v275b_N2_AM04', 'v24a_IT', 'v275b_N2_DK02', 'v275b_N2_CZ06', 'v24b_IT', 'v231b_BA', 'v275b_N2_ES30', 'v275b_N2_SI04', 'v275b_N2_RO21', 'v275b_N2_RU31', 'v275b_N2_PT17', 'v275b_N2_AT22', 'v233b_BA', 'v275b_N2_RU61', 'v228b_DE', 'v275b_N2_CH06', 'v233b_DE', 'v275b_N2_ITC4', 'v275b_N2_AL01', 'v275b_N2_CZ05', 'v275b_N2_NO01', 'v275b_N2_NL33', 'v275b_N2_AZ-ISM', 'v275b_N2_AT12', 'v275b_N2_UA61', 'v221_DK', 'v275b_N2_BG34', 'v275b_N2_PT11', 'v275b_N2_RS22', 'v275b_N2_SK01', 'v275b_N2_BG33', 'v275b_N2_AZ-GOR', 'v275b_N2_AM02', 'v224_DK', 'v228b_RU', 'v223_DK', 'c_abrv_NO', 'v275b_N2_RS11', 'v275b_N2_CZ04', 'v275b_N2_CH04', 'v275b_N2_AT13', 'v183_DK', 'v275b_N2_FR10', 'v275b_N2_RU11', 'v275b_N2_SK04', 'v275b_N2_CZ03', 'v275b_N2_CH01', 'v275b_N2_SK03', 'v222_DK', 'v275b_N2_BY05', 'v275b_N2_CH05', 'v275b_N2_CH02', 'v275b_N2_RU41', 'v281a_no', 'f110', 'v275b_N2_AM01', 'v275b_N2_GE01', 'v275b_N2_HR03', 'v275b_N2_DK03', 'v275b_N2_SI03', 'v275b_N2_AZ-BA', 'v275b_N2_SK02', 'f108', 'v275b_N2_BG41', 'v275b_N2_DK04', 'v281a_pt', 'c_abrv_GB', 'c_abrv_PT', 'v275b_N2_BASRP', 'v177_DK', 'v275b_N2_LT01', 'v233b_RU', 'v275b_N2_AL02', 'v275b_N2_RS21', 'v281a_et', 'v275b_N2_DK01', 'v281a_fi', 'c_abrv_FI', 'c_abrv_SI', 'v182_DK', 'v281a_mk', 'v281a_en', 'v231b_RU', 'v275b_N2_AL03', 'v281a_lv', 'v176_DK', 'v281a_sl', 'v275b_N2_IS00', 'v275b_N2_RS12', 'v281a_uk', 'c_abrv_DE', 'c_abrv_EE', 'c_abrv_IS', 'v281a_is', 'v275b_N2_EE00', 'v252_cs_GB2', 'v275b_N2_HR04', 'v281a_bs', 'v180_DK', 'v281a_es', 'v275b_N2_-4', 'c_abrv_NL', 'v243_cs_GB1', 'v275b_N2_LV00', 'c_abrv_AT', 'v262_cs_GB1', 'c_abrv_ES', 'c_abrv_LV', 'v252_cs_GB1', 'v275b_N2_BABIH', 'v275b_N2_MK00', 'v281a_pl', 'v263_cs_DE2', 'v281a_nl', 'v262_cs_GB2', 'v178_DK', 'v275b_N2_GE03', 'v263_cs_GB1', 'c_abrv_MK', 'f85', 'c_abrv_SK', 'v243_cs_GB2', 'v281a_sq', 'c_abrv_AM', 'v281a_sk', 'v262_cs_DE2', 'c_abrv_FR', 'v281a_hr', 'c_abrv_BY', 'v263_cs_GB2', 'c_abrv_HU', 'c_abrv_AL', 'v243_cs_DE2', 'c_abrv_BA', 'v252_cs_DE2', 'v169', 'v281a_hu', 'v281a_it', 'v252_cs_DE1', 'c_abrv_RU', 'v243_cs_DE1', 'v263_cs_DE1', 'v141_11c', 'v262_cs_DE1', 'v179_DK', 'v262_cs_DE3', 'c_abrv_UA', 'v281a_hy', 'v281a_bg', 'c_abrv_BG', 'v252_cs_DE3', 'c_abrv_IT', 'v263_cs_DE3', 'v275b_N2_LT02', 'f46_IT', 'c_abrv_CH', 'v135_11c', 'f252_edulvlb_CH', 'v251b_-3', 'v281a_fr', 'v181_DK', 'v243_cs_DE3', 'v281a_ro', 'c_abrv_HR', 'v138_11c', 'c_abrv_PL', 'c_abrv_RO', 'f24_IT', 'v136_11c', 'c_abrv_LT', 'v137_11c', 'v134_11c', 'f45a', 'v140_11c', 'v227', 'v17', 'v281a_de', 'v281a_lt', 'v139_11c', 'v133_11c', 'c_abrv_RS', 'f96', 'v228b_-3', 'v96', 'f20', 'v281a_sr', 'v18', 'v45a', 'v281a_da', 'v275b_N2_GE02', 'v233b_-3', 'v232', 'c_abrv_DK', 'v256', 'v281a_ru', 'v12', 'v231b_-3', 'v13', 'v230', 'v14', 'c_abrv_CZ', 'c_abrv_AZ', 'v281a_cs', 'v281a_az', 'v19', 'v229', 'v247', 'v16', 'v260', 'v10', 'v258', 'v11', 'v20a', 'v40', 'v45b', 'v238', 'v32', 'v20b', 'v45c', 'v15', 'v96a', 'v65', 'v250', 'v29', 'v21', 'v259', 'v25', 'v88', 'v85', 'v95', 'v96b', 'v22', 'v41', 'v89', 'v94', 'v87', 'v90', 'v248a', 'v44', 'v237', 'v23', 'v27', 'v31', 'v243_r', 'v254', 'v24', 'v236', 'v91', 'v92', 'v42', 'v263_r', 'v30a', 'v30', 'v43', 'v225', 'v257', 'v222', 'v45', 'v2', 'v262_r', 'v224', 'age_r2', 'v20', 'f30a', 'v252_r', 'v264', 'v190', 'v101', 'v192', 'v243_ISCED97', 'v30c', 'v30b', 'v248', 'v252_ISCED97', 'v193', 'v112', 'v67', 'v34', 'v172', 'v152', 'c_abrv_GE', 'v204', 'v28', 'v223', 'v111_4', 'v86', 'v61', 'v265', 'v148', 'v245', 'v171', 'v70', 'v26', 'v99', 'v66', 'v281a_ka', 'v268', 'v162', 'v77', 'v234', 'v239b', 'v7', 'v71', 'v166', 'v239a', 'v164', 'v9', 'v100', 'v252_ISCED_1', 'v221', 'v252_EISCED', 'v68', 'v263_ISCED97', 'v252_edulvlb_1', 'v33', 'v252_8cat', 'v243_edulvlb_1', 'v98', 'v262_ISCED97', 'v35', 'v165', 'v113', 'v117', 'v243_ISCED_1', 'v170', 'v122', 'v253', 'v108', 'v130', 'v252_ISCED_2b', 'v114', 'v120', 'v197', 'v126', 'v118', 'v207', 'v263_ISCED_1', 'v123', 'v261_r', 'v243_8cat', 'v8', 'v252_ISCED_2', 'year', 'v127', 'v262_edulvlb_1', 'v263_edulvlb_1', 'v243_EISCED', 'v121', 'v167', 'v252_edulvlb_2', 'v263_EISCED', 'v206', 'v280', 'v78', 'v189', 'v128', 'v129', 'v183', 'v249', 'v272', 'v110', 'v262_ISCED_1', 'v119', 'v131', 'v76', 'v195', 'v132', 'v1', 'v262_EISCED', 'v116', 'v46', 'v243_ISCED_2b', 'v194', 'v168', 'v177', 'v270', 'v263_8cat', 'v74', 'v255_egp', 'v124', 'v205', 'v267', 'v146', 'v141', 'v273', 'v150', 'v252_ISCED_3', 'v255_ESeC', 'v214', 'v36', 'v125', 'v37', 'v252_edulvlb', 'v263_ISCED_2b', 'v217', 'v212', 'v4', 'v181', 'v274', 'v184', 'v180', 'v149', 'v191', 'v243_ISCED_2', 'v111', 'v80', 'v49', 'v210', 'v239_r', 'v213', 'v211', 'v173', 'v178', 'v262_8cat', 'v271', 'v176', 'v97', 'v200', 'v220', 'v179', 'v215', 'v73', 'v269', 'v276_r', 'v109', 'v244', 'v48', 'v142', 'v262_ISCED_2b', 'v72', 'v135', 'v201', 'age_r', 'v263_ISCED_2', 'v263_edulvlb_2', 'v240', 'v182', 'v202', 'v262_ISCED_2', 'v209', 'v203', 'v145', 'v3', 'v208', 'v79', 'v243_edulvlb_2', 'v219', 'v216', 'v199', 'v262_edulvlb_2', 'v263_ISCED_3', 'v262_ISCED_3', 'v75', 'v47', 'v243_ISCED_3', 'v147', 'v50', 'v242_r', 'age_r3', 'v159', 'v69', 'v262_edulvlb', 'v263_edulvlb', 'v243_edulvlb', 'v255_ISCO_2', 'v83', 'v255_ISEI', 'v255_SIOPS', 'v138', 'v84', 'v246_ESeC', 'v218', 'v235', 'v81', 'v163', 'v246_egp', 'v175_LR', 'v39', 'v136', 'v157', 'v252_cs', 'v38', 'v266', 'v137', 'v151', 'fw_start', 'v105', 'v139', 'v174_LR', 'v187', 'fw_end', 'v186', 'v133', 'v278a', 'v198', 'v261', 'v143', 'v107', 'v140', 'v144', 'v279a', 'v104', 'v102', 'v188', 'v185', 'v82', 'v242', 'v103', 'v106', 'v161', 'v175_cs', 'v246_ISCO_2', 'v241', 'v246_SIOPS', 'v246_ISEI', 'v160', 'v134', 'v263_cs', 'v174_cs', 'v279b', 'v278b', 'v262_cs', 'v153', 'v155', 'age', 'v226', 'v278c_r', 'v279d_r', 'v58', 'v279c_r', 'v243_cs', 'v282', 'v158', 'v261_ppp', 'v196', 'v277', 'v55', 'v59', 'v156', 'v93', 'v5', 'v60', 'v53', 'v154', 'v62', 'v51', 'v52_cs', 'v115', 'v52', 'v57', 'v54', 'v56', 'v64', 'v63']\n",
    "\n",
    "X_train = dataset.getTrain().loc[:,cols].values\n",
    "X_test = dataset.getTest().loc[:,cols].values\n"
   ]
  },
  {
   "cell_type": "code",
   "execution_count": 5,
   "id": "51a2d30e-f7ee-425f-8433-5b27c82bf21c",
   "metadata": {},
   "outputs": [
    {
     "name": "stdout",
     "output_type": "stream",
     "text": [
      "-0.842694 with: {'learning_rate': 0.1, 'max_depth': 8, 'max_leaves': 66, 'min_child_weight': 6, 'n_estimators': 200, 'subsample': 0.8}\n",
      "-0.841410 with: {'learning_rate': 0.1, 'max_depth': 8, 'max_leaves': 66, 'min_child_weight': 8, 'n_estimators': 200, 'subsample': 0.8}\n",
      "-0.841769 with: {'learning_rate': 0.1, 'max_depth': 8, 'max_leaves': 66, 'min_child_weight': 10, 'n_estimators': 200, 'subsample': 0.8}\n",
      "-0.843626 with: {'learning_rate': 0.1, 'max_depth': 8, 'max_leaves': 70, 'min_child_weight': 6, 'n_estimators': 200, 'subsample': 0.8}\n",
      "-0.842003 with: {'learning_rate': 0.1, 'max_depth': 8, 'max_leaves': 70, 'min_child_weight': 8, 'n_estimators': 200, 'subsample': 0.8}\n",
      "-0.841261 with: {'learning_rate': 0.1, 'max_depth': 8, 'max_leaves': 70, 'min_child_weight': 10, 'n_estimators': 200, 'subsample': 0.8}\n",
      "-0.843514 with: {'learning_rate': 0.1, 'max_depth': 8, 'max_leaves': 74, 'min_child_weight': 6, 'n_estimators': 200, 'subsample': 0.8}\n",
      "-0.842907 with: {'learning_rate': 0.1, 'max_depth': 8, 'max_leaves': 74, 'min_child_weight': 8, 'n_estimators': 200, 'subsample': 0.8}\n",
      "-0.842891 with: {'learning_rate': 0.1, 'max_depth': 8, 'max_leaves': 74, 'min_child_weight': 10, 'n_estimators': 200, 'subsample': 0.8}\n",
      "-0.845423 with: {'learning_rate': 0.1, 'max_depth': 10, 'max_leaves': 66, 'min_child_weight': 6, 'n_estimators': 200, 'subsample': 0.8}\n",
      "-0.843786 with: {'learning_rate': 0.1, 'max_depth': 10, 'max_leaves': 66, 'min_child_weight': 8, 'n_estimators': 200, 'subsample': 0.8}\n",
      "-0.842349 with: {'learning_rate': 0.1, 'max_depth': 10, 'max_leaves': 66, 'min_child_weight': 10, 'n_estimators': 200, 'subsample': 0.8}\n",
      "-0.843670 with: {'learning_rate': 0.1, 'max_depth': 10, 'max_leaves': 70, 'min_child_weight': 6, 'n_estimators': 200, 'subsample': 0.8}\n",
      "-0.843591 with: {'learning_rate': 0.1, 'max_depth': 10, 'max_leaves': 70, 'min_child_weight': 8, 'n_estimators': 200, 'subsample': 0.8}\n",
      "-0.842416 with: {'learning_rate': 0.1, 'max_depth': 10, 'max_leaves': 70, 'min_child_weight': 10, 'n_estimators': 200, 'subsample': 0.8}\n",
      "-0.844566 with: {'learning_rate': 0.1, 'max_depth': 10, 'max_leaves': 74, 'min_child_weight': 6, 'n_estimators': 200, 'subsample': 0.8}\n",
      "-0.842831 with: {'learning_rate': 0.1, 'max_depth': 10, 'max_leaves': 74, 'min_child_weight': 8, 'n_estimators': 200, 'subsample': 0.8}\n",
      "-0.842459 with: {'learning_rate': 0.1, 'max_depth': 10, 'max_leaves': 74, 'min_child_weight': 10, 'n_estimators': 200, 'subsample': 0.8}\n",
      "-0.844344 with: {'learning_rate': 0.1, 'max_depth': 12, 'max_leaves': 66, 'min_child_weight': 6, 'n_estimators': 200, 'subsample': 0.8}\n",
      "-0.843512 with: {'learning_rate': 0.1, 'max_depth': 12, 'max_leaves': 66, 'min_child_weight': 8, 'n_estimators': 200, 'subsample': 0.8}\n",
      "-0.843756 with: {'learning_rate': 0.1, 'max_depth': 12, 'max_leaves': 66, 'min_child_weight': 10, 'n_estimators': 200, 'subsample': 0.8}\n",
      "-0.844174 with: {'learning_rate': 0.1, 'max_depth': 12, 'max_leaves': 70, 'min_child_weight': 6, 'n_estimators': 200, 'subsample': 0.8}\n",
      "-0.843229 with: {'learning_rate': 0.1, 'max_depth': 12, 'max_leaves': 70, 'min_child_weight': 8, 'n_estimators': 200, 'subsample': 0.8}\n",
      "-0.843675 with: {'learning_rate': 0.1, 'max_depth': 12, 'max_leaves': 70, 'min_child_weight': 10, 'n_estimators': 200, 'subsample': 0.8}\n",
      "-0.844666 with: {'learning_rate': 0.1, 'max_depth': 12, 'max_leaves': 74, 'min_child_weight': 6, 'n_estimators': 200, 'subsample': 0.8}\n",
      "-0.843912 with: {'learning_rate': 0.1, 'max_depth': 12, 'max_leaves': 74, 'min_child_weight': 8, 'n_estimators': 200, 'subsample': 0.8}\n",
      "-0.842538 with: {'learning_rate': 0.1, 'max_depth': 12, 'max_leaves': 74, 'min_child_weight': 10, 'n_estimators': 200, 'subsample': 0.8}\n",
      "\n",
      "Best: -0.841261 using {'learning_rate': 0.1, 'max_depth': 8, 'max_leaves': 70, 'min_child_weight': 10, 'n_estimators': 200, 'subsample': 0.8}\n"
     ]
    }
   ],
   "source": [
    "# grid search\n",
    "model = xgb.XGBClassifier(objective=\"multi:softmax\", subsample=0.5, random_state=441)\n",
    "kfold = StratifiedKFold(n_splits=5, shuffle=True, random_state=441)\n",
    "\n",
    "#using top 500 from random forest\n",
    "#Best: -0.841747 using {'learning_rate': 0.1, 'max_depth': 10, 'max_leaves': 70, 'min_child_weight': 10, 'n_estimators': 200, 'subsample': 0.8}\n",
    "\n",
    "#using top 700 from random forest\n",
    "#Best: -0.841261 using {'learning_rate': 0.1, 'max_depth': 8, 'max_leaves': 70, 'min_child_weight': 10, 'n_estimators': 200, 'subsample': 0.8}\n",
    "param_grid = {\n",
    "    'max_depth': [8, 10, 12],\n",
    "    'max_leaves': [66, 70, 74],\n",
    "    'learning_rate': [0.1],\n",
    "    'min_child_weight': [6, 8, 10],\n",
    "    'subsample': [0.8],\n",
    "    'n_estimators' : [200]\n",
    "}\n",
    "\n",
    "grid_search = GridSearchCV(model, param_grid, scoring=\"neg_log_loss\", n_jobs=-1, cv=kfold)\n",
    "grid_result = grid_search.fit(X_train, y_train)\n",
    "\n",
    "# print results\n",
    "means = grid_result.cv_results_['mean_test_score']\n",
    "params = grid_result.cv_results_['params']\n",
    "for mean, param in zip(means, params):\n",
    " print(\"%f with: %r\" % (mean, param))\n",
    "\n",
    "print(\"\\nBest: %f using %s\" % (grid_result.best_score_, grid_result.best_params_))"
   ]
  },
  {
   "cell_type": "code",
   "execution_count": 6,
   "id": "3067ef0f-9ba4-4178-9061-505d17dfb056",
   "metadata": {},
   "outputs": [],
   "source": [
    "#all features\n",
    "# best_model = xgb.XGBClassifier(\n",
    "#     objective=\"multi:softmax\", \n",
    "#     random_state=441, \n",
    "#     max_depth=8, \n",
    "#     max_leaves=66, \n",
    "#     learning_rate=0.1, \n",
    "#     subsample=0.8, \n",
    "#     min_child_weight = 8,\n",
    "#     colsample_bytree = 0.6,\n",
    "#     gamma = 0.1,\n",
    "#     n_estimators = 200\n",
    "# ).fit(X_train, y_train) #around 0.838\n",
    "\n",
    "#top 700 features\n",
    "#Best: -0.841261 using {'learning_rate': 0.1, 'max_depth': 8, 'max_leaves': 70, 'min_child_weight': 10, 'n_estimators': 200, 'subsample': 0.8}\n",
    "best_model = xgb.XGBClassifier(\n",
    "    objective=\"multi:softmax\", \n",
    "    random_state=441, \n",
    "    max_depth=8, \n",
    "    max_leaves=70, \n",
    "    learning_rate=0.1, \n",
    "    subsample=0.8, \n",
    "    min_child_weight = 10,\n",
    "    colsample_bytree = 0.6,\n",
    "    gamma = 0.1,\n",
    "    n_estimators = 200\n",
    ").fit(X_train, y_train) #around 0.841\n",
    "\n",
    "prob = best_model.predict_proba(X_test)"
   ]
  },
  {
   "cell_type": "code",
   "execution_count": 7,
   "id": "6c76455d-9b62-4c61-b691-1f9c5f343add",
   "metadata": {},
   "outputs": [
    {
     "ename": "KeyboardInterrupt",
     "evalue": "",
     "output_type": "error",
     "traceback": [
      "\u001b[1;31m---------------------------------------------------------------------------\u001b[0m",
      "\u001b[1;31mKeyboardInterrupt\u001b[0m                         Traceback (most recent call last)",
      "File \u001b[1;32m~\\AppData\\Local\\Programs\\Python\\Python312\\Lib\\site-packages\\joblib\\parallel.py:1595\u001b[0m, in \u001b[0;36mParallel._get_outputs\u001b[1;34m(self, iterator, pre_dispatch)\u001b[0m\n\u001b[0;32m   1594\u001b[0m     \u001b[38;5;28;01mwith\u001b[39;00m \u001b[38;5;28mself\u001b[39m\u001b[38;5;241m.\u001b[39m_backend\u001b[38;5;241m.\u001b[39mretrieval_context():\n\u001b[1;32m-> 1595\u001b[0m         \u001b[38;5;28;01myield from\u001b[39;00m \u001b[38;5;28mself\u001b[39m\u001b[38;5;241m.\u001b[39m_retrieve()\n\u001b[0;32m   1597\u001b[0m \u001b[38;5;28;01mexcept\u001b[39;00m \u001b[38;5;167;01mGeneratorExit\u001b[39;00m:\n\u001b[0;32m   1598\u001b[0m     \u001b[38;5;66;03m# The generator has been garbage collected before being fully\u001b[39;00m\n\u001b[0;32m   1599\u001b[0m     \u001b[38;5;66;03m# consumed. This aborts the remaining tasks if possible and warn\u001b[39;00m\n\u001b[0;32m   1600\u001b[0m     \u001b[38;5;66;03m# the user if necessary.\u001b[39;00m\n",
      "File \u001b[1;32m~\\AppData\\Local\\Programs\\Python\\Python312\\Lib\\site-packages\\joblib\\parallel.py:1707\u001b[0m, in \u001b[0;36mParallel._retrieve\u001b[1;34m(self)\u001b[0m\n\u001b[0;32m   1704\u001b[0m \u001b[38;5;28;01mif\u001b[39;00m ((\u001b[38;5;28mlen\u001b[39m(\u001b[38;5;28mself\u001b[39m\u001b[38;5;241m.\u001b[39m_jobs) \u001b[38;5;241m==\u001b[39m \u001b[38;5;241m0\u001b[39m) \u001b[38;5;129;01mor\u001b[39;00m\n\u001b[0;32m   1705\u001b[0m     (\u001b[38;5;28mself\u001b[39m\u001b[38;5;241m.\u001b[39m_jobs[\u001b[38;5;241m0\u001b[39m]\u001b[38;5;241m.\u001b[39mget_status(\n\u001b[0;32m   1706\u001b[0m         timeout\u001b[38;5;241m=\u001b[39m\u001b[38;5;28mself\u001b[39m\u001b[38;5;241m.\u001b[39mtimeout) \u001b[38;5;241m==\u001b[39m TASK_PENDING)):\n\u001b[1;32m-> 1707\u001b[0m     \u001b[43mtime\u001b[49m\u001b[38;5;241;43m.\u001b[39;49m\u001b[43msleep\u001b[49m\u001b[43m(\u001b[49m\u001b[38;5;241;43m0.01\u001b[39;49m\u001b[43m)\u001b[49m\n\u001b[0;32m   1708\u001b[0m     \u001b[38;5;28;01mcontinue\u001b[39;00m\n",
      "\u001b[1;31mKeyboardInterrupt\u001b[0m: ",
      "\nDuring handling of the above exception, another exception occurred:\n",
      "\u001b[1;31mKeyboardInterrupt\u001b[0m                         Traceback (most recent call last)",
      "Cell \u001b[1;32mIn[7], line 22\u001b[0m\n\u001b[0;32m     15\u001b[0m param_grid \u001b[38;5;241m=\u001b[39m {\n\u001b[0;32m     16\u001b[0m     \u001b[38;5;124m'\u001b[39m\u001b[38;5;124mcolsample_bytree\u001b[39m\u001b[38;5;124m'\u001b[39m:[\u001b[38;5;241m0.6\u001b[39m, \u001b[38;5;241m0.7\u001b[39m, \u001b[38;5;241m0.8\u001b[39m],\n\u001b[0;32m     17\u001b[0m     \u001b[38;5;124m'\u001b[39m\u001b[38;5;124mgamma\u001b[39m\u001b[38;5;124m'\u001b[39m:[\u001b[38;5;241m0\u001b[39m, \u001b[38;5;241m0.2\u001b[39m, \u001b[38;5;241m0.4\u001b[39m],\n\u001b[0;32m     18\u001b[0m     \u001b[38;5;124m'\u001b[39m\u001b[38;5;124mn_estimators\u001b[39m\u001b[38;5;124m'\u001b[39m:[\u001b[38;5;241m100\u001b[39m, \u001b[38;5;241m200\u001b[39m, \u001b[38;5;241m300\u001b[39m]\n\u001b[0;32m     19\u001b[0m }\n\u001b[0;32m     21\u001b[0m grid_search \u001b[38;5;241m=\u001b[39m GridSearchCV(model, param_grid, scoring\u001b[38;5;241m=\u001b[39m\u001b[38;5;124m\"\u001b[39m\u001b[38;5;124mneg_log_loss\u001b[39m\u001b[38;5;124m\"\u001b[39m, n_jobs\u001b[38;5;241m=\u001b[39m\u001b[38;5;241m-\u001b[39m\u001b[38;5;241m1\u001b[39m, cv\u001b[38;5;241m=\u001b[39mkfold)\n\u001b[1;32m---> 22\u001b[0m grid_result \u001b[38;5;241m=\u001b[39m \u001b[43mgrid_search\u001b[49m\u001b[38;5;241;43m.\u001b[39;49m\u001b[43mfit\u001b[49m\u001b[43m(\u001b[49m\u001b[43mX_train\u001b[49m\u001b[43m,\u001b[49m\u001b[43m \u001b[49m\u001b[43my_train\u001b[49m\u001b[43m)\u001b[49m\n\u001b[0;32m     24\u001b[0m \u001b[38;5;66;03m# print results\u001b[39;00m\n\u001b[0;32m     25\u001b[0m means \u001b[38;5;241m=\u001b[39m grid_result\u001b[38;5;241m.\u001b[39mcv_results_[\u001b[38;5;124m'\u001b[39m\u001b[38;5;124mmean_test_score\u001b[39m\u001b[38;5;124m'\u001b[39m]\n",
      "File \u001b[1;32m~\\AppData\\Local\\Programs\\Python\\Python312\\Lib\\site-packages\\sklearn\\base.py:1474\u001b[0m, in \u001b[0;36m_fit_context.<locals>.decorator.<locals>.wrapper\u001b[1;34m(estimator, *args, **kwargs)\u001b[0m\n\u001b[0;32m   1467\u001b[0m     estimator\u001b[38;5;241m.\u001b[39m_validate_params()\n\u001b[0;32m   1469\u001b[0m \u001b[38;5;28;01mwith\u001b[39;00m config_context(\n\u001b[0;32m   1470\u001b[0m     skip_parameter_validation\u001b[38;5;241m=\u001b[39m(\n\u001b[0;32m   1471\u001b[0m         prefer_skip_nested_validation \u001b[38;5;129;01mor\u001b[39;00m global_skip_validation\n\u001b[0;32m   1472\u001b[0m     )\n\u001b[0;32m   1473\u001b[0m ):\n\u001b[1;32m-> 1474\u001b[0m     \u001b[38;5;28;01mreturn\u001b[39;00m \u001b[43mfit_method\u001b[49m\u001b[43m(\u001b[49m\u001b[43mestimator\u001b[49m\u001b[43m,\u001b[49m\u001b[43m \u001b[49m\u001b[38;5;241;43m*\u001b[39;49m\u001b[43margs\u001b[49m\u001b[43m,\u001b[49m\u001b[43m \u001b[49m\u001b[38;5;241;43m*\u001b[39;49m\u001b[38;5;241;43m*\u001b[39;49m\u001b[43mkwargs\u001b[49m\u001b[43m)\u001b[49m\n",
      "File \u001b[1;32m~\\AppData\\Local\\Programs\\Python\\Python312\\Lib\\site-packages\\sklearn\\model_selection\\_search.py:970\u001b[0m, in \u001b[0;36mBaseSearchCV.fit\u001b[1;34m(self, X, y, **params)\u001b[0m\n\u001b[0;32m    964\u001b[0m     results \u001b[38;5;241m=\u001b[39m \u001b[38;5;28mself\u001b[39m\u001b[38;5;241m.\u001b[39m_format_results(\n\u001b[0;32m    965\u001b[0m         all_candidate_params, n_splits, all_out, all_more_results\n\u001b[0;32m    966\u001b[0m     )\n\u001b[0;32m    968\u001b[0m     \u001b[38;5;28;01mreturn\u001b[39;00m results\n\u001b[1;32m--> 970\u001b[0m \u001b[38;5;28;43mself\u001b[39;49m\u001b[38;5;241;43m.\u001b[39;49m\u001b[43m_run_search\u001b[49m\u001b[43m(\u001b[49m\u001b[43mevaluate_candidates\u001b[49m\u001b[43m)\u001b[49m\n\u001b[0;32m    972\u001b[0m \u001b[38;5;66;03m# multimetric is determined here because in the case of a callable\u001b[39;00m\n\u001b[0;32m    973\u001b[0m \u001b[38;5;66;03m# self.scoring the return type is only known after calling\u001b[39;00m\n\u001b[0;32m    974\u001b[0m first_test_score \u001b[38;5;241m=\u001b[39m all_out[\u001b[38;5;241m0\u001b[39m][\u001b[38;5;124m\"\u001b[39m\u001b[38;5;124mtest_scores\u001b[39m\u001b[38;5;124m\"\u001b[39m]\n",
      "File \u001b[1;32m~\\AppData\\Local\\Programs\\Python\\Python312\\Lib\\site-packages\\sklearn\\model_selection\\_search.py:1527\u001b[0m, in \u001b[0;36mGridSearchCV._run_search\u001b[1;34m(self, evaluate_candidates)\u001b[0m\n\u001b[0;32m   1525\u001b[0m \u001b[38;5;28;01mdef\u001b[39;00m \u001b[38;5;21m_run_search\u001b[39m(\u001b[38;5;28mself\u001b[39m, evaluate_candidates):\n\u001b[0;32m   1526\u001b[0m \u001b[38;5;250m    \u001b[39m\u001b[38;5;124;03m\"\"\"Search all candidates in param_grid\"\"\"\u001b[39;00m\n\u001b[1;32m-> 1527\u001b[0m     \u001b[43mevaluate_candidates\u001b[49m\u001b[43m(\u001b[49m\u001b[43mParameterGrid\u001b[49m\u001b[43m(\u001b[49m\u001b[38;5;28;43mself\u001b[39;49m\u001b[38;5;241;43m.\u001b[39;49m\u001b[43mparam_grid\u001b[49m\u001b[43m)\u001b[49m\u001b[43m)\u001b[49m\n",
      "File \u001b[1;32m~\\AppData\\Local\\Programs\\Python\\Python312\\Lib\\site-packages\\sklearn\\model_selection\\_search.py:916\u001b[0m, in \u001b[0;36mBaseSearchCV.fit.<locals>.evaluate_candidates\u001b[1;34m(candidate_params, cv, more_results)\u001b[0m\n\u001b[0;32m    908\u001b[0m \u001b[38;5;28;01mif\u001b[39;00m \u001b[38;5;28mself\u001b[39m\u001b[38;5;241m.\u001b[39mverbose \u001b[38;5;241m>\u001b[39m \u001b[38;5;241m0\u001b[39m:\n\u001b[0;32m    909\u001b[0m     \u001b[38;5;28mprint\u001b[39m(\n\u001b[0;32m    910\u001b[0m         \u001b[38;5;124m\"\u001b[39m\u001b[38;5;124mFitting \u001b[39m\u001b[38;5;132;01m{0}\u001b[39;00m\u001b[38;5;124m folds for each of \u001b[39m\u001b[38;5;132;01m{1}\u001b[39;00m\u001b[38;5;124m candidates,\u001b[39m\u001b[38;5;124m\"\u001b[39m\n\u001b[0;32m    911\u001b[0m         \u001b[38;5;124m\"\u001b[39m\u001b[38;5;124m totalling \u001b[39m\u001b[38;5;132;01m{2}\u001b[39;00m\u001b[38;5;124m fits\u001b[39m\u001b[38;5;124m\"\u001b[39m\u001b[38;5;241m.\u001b[39mformat(\n\u001b[0;32m    912\u001b[0m             n_splits, n_candidates, n_candidates \u001b[38;5;241m*\u001b[39m n_splits\n\u001b[0;32m    913\u001b[0m         )\n\u001b[0;32m    914\u001b[0m     )\n\u001b[1;32m--> 916\u001b[0m out \u001b[38;5;241m=\u001b[39m \u001b[43mparallel\u001b[49m\u001b[43m(\u001b[49m\n\u001b[0;32m    917\u001b[0m \u001b[43m    \u001b[49m\u001b[43mdelayed\u001b[49m\u001b[43m(\u001b[49m\u001b[43m_fit_and_score\u001b[49m\u001b[43m)\u001b[49m\u001b[43m(\u001b[49m\n\u001b[0;32m    918\u001b[0m \u001b[43m        \u001b[49m\u001b[43mclone\u001b[49m\u001b[43m(\u001b[49m\u001b[43mbase_estimator\u001b[49m\u001b[43m)\u001b[49m\u001b[43m,\u001b[49m\n\u001b[0;32m    919\u001b[0m \u001b[43m        \u001b[49m\u001b[43mX\u001b[49m\u001b[43m,\u001b[49m\n\u001b[0;32m    920\u001b[0m \u001b[43m        \u001b[49m\u001b[43my\u001b[49m\u001b[43m,\u001b[49m\n\u001b[0;32m    921\u001b[0m \u001b[43m        \u001b[49m\u001b[43mtrain\u001b[49m\u001b[38;5;241;43m=\u001b[39;49m\u001b[43mtrain\u001b[49m\u001b[43m,\u001b[49m\n\u001b[0;32m    922\u001b[0m \u001b[43m        \u001b[49m\u001b[43mtest\u001b[49m\u001b[38;5;241;43m=\u001b[39;49m\u001b[43mtest\u001b[49m\u001b[43m,\u001b[49m\n\u001b[0;32m    923\u001b[0m \u001b[43m        \u001b[49m\u001b[43mparameters\u001b[49m\u001b[38;5;241;43m=\u001b[39;49m\u001b[43mparameters\u001b[49m\u001b[43m,\u001b[49m\n\u001b[0;32m    924\u001b[0m \u001b[43m        \u001b[49m\u001b[43msplit_progress\u001b[49m\u001b[38;5;241;43m=\u001b[39;49m\u001b[43m(\u001b[49m\u001b[43msplit_idx\u001b[49m\u001b[43m,\u001b[49m\u001b[43m \u001b[49m\u001b[43mn_splits\u001b[49m\u001b[43m)\u001b[49m\u001b[43m,\u001b[49m\n\u001b[0;32m    925\u001b[0m \u001b[43m        \u001b[49m\u001b[43mcandidate_progress\u001b[49m\u001b[38;5;241;43m=\u001b[39;49m\u001b[43m(\u001b[49m\u001b[43mcand_idx\u001b[49m\u001b[43m,\u001b[49m\u001b[43m \u001b[49m\u001b[43mn_candidates\u001b[49m\u001b[43m)\u001b[49m\u001b[43m,\u001b[49m\n\u001b[0;32m    926\u001b[0m \u001b[43m        \u001b[49m\u001b[38;5;241;43m*\u001b[39;49m\u001b[38;5;241;43m*\u001b[39;49m\u001b[43mfit_and_score_kwargs\u001b[49m\u001b[43m,\u001b[49m\n\u001b[0;32m    927\u001b[0m \u001b[43m    \u001b[49m\u001b[43m)\u001b[49m\n\u001b[0;32m    928\u001b[0m \u001b[43m    \u001b[49m\u001b[38;5;28;43;01mfor\u001b[39;49;00m\u001b[43m \u001b[49m\u001b[43m(\u001b[49m\u001b[43mcand_idx\u001b[49m\u001b[43m,\u001b[49m\u001b[43m \u001b[49m\u001b[43mparameters\u001b[49m\u001b[43m)\u001b[49m\u001b[43m,\u001b[49m\u001b[43m \u001b[49m\u001b[43m(\u001b[49m\u001b[43msplit_idx\u001b[49m\u001b[43m,\u001b[49m\u001b[43m \u001b[49m\u001b[43m(\u001b[49m\u001b[43mtrain\u001b[49m\u001b[43m,\u001b[49m\u001b[43m \u001b[49m\u001b[43mtest\u001b[49m\u001b[43m)\u001b[49m\u001b[43m)\u001b[49m\u001b[43m \u001b[49m\u001b[38;5;129;43;01min\u001b[39;49;00m\u001b[43m \u001b[49m\u001b[43mproduct\u001b[49m\u001b[43m(\u001b[49m\n\u001b[0;32m    929\u001b[0m \u001b[43m        \u001b[49m\u001b[38;5;28;43menumerate\u001b[39;49m\u001b[43m(\u001b[49m\u001b[43mcandidate_params\u001b[49m\u001b[43m)\u001b[49m\u001b[43m,\u001b[49m\n\u001b[0;32m    930\u001b[0m \u001b[43m        \u001b[49m\u001b[38;5;28;43menumerate\u001b[39;49m\u001b[43m(\u001b[49m\u001b[43mcv\u001b[49m\u001b[38;5;241;43m.\u001b[39;49m\u001b[43msplit\u001b[49m\u001b[43m(\u001b[49m\u001b[43mX\u001b[49m\u001b[43m,\u001b[49m\u001b[43m \u001b[49m\u001b[43my\u001b[49m\u001b[43m,\u001b[49m\u001b[43m \u001b[49m\u001b[38;5;241;43m*\u001b[39;49m\u001b[38;5;241;43m*\u001b[39;49m\u001b[43mrouted_params\u001b[49m\u001b[38;5;241;43m.\u001b[39;49m\u001b[43msplitter\u001b[49m\u001b[38;5;241;43m.\u001b[39;49m\u001b[43msplit\u001b[49m\u001b[43m)\u001b[49m\u001b[43m)\u001b[49m\u001b[43m,\u001b[49m\n\u001b[0;32m    931\u001b[0m \u001b[43m    \u001b[49m\u001b[43m)\u001b[49m\n\u001b[0;32m    932\u001b[0m \u001b[43m\u001b[49m\u001b[43m)\u001b[49m\n\u001b[0;32m    934\u001b[0m \u001b[38;5;28;01mif\u001b[39;00m \u001b[38;5;28mlen\u001b[39m(out) \u001b[38;5;241m<\u001b[39m \u001b[38;5;241m1\u001b[39m:\n\u001b[0;32m    935\u001b[0m     \u001b[38;5;28;01mraise\u001b[39;00m \u001b[38;5;167;01mValueError\u001b[39;00m(\n\u001b[0;32m    936\u001b[0m         \u001b[38;5;124m\"\u001b[39m\u001b[38;5;124mNo fits were performed. \u001b[39m\u001b[38;5;124m\"\u001b[39m\n\u001b[0;32m    937\u001b[0m         \u001b[38;5;124m\"\u001b[39m\u001b[38;5;124mWas the CV iterator empty? \u001b[39m\u001b[38;5;124m\"\u001b[39m\n\u001b[0;32m    938\u001b[0m         \u001b[38;5;124m\"\u001b[39m\u001b[38;5;124mWere there no candidates?\u001b[39m\u001b[38;5;124m\"\u001b[39m\n\u001b[0;32m    939\u001b[0m     )\n",
      "File \u001b[1;32m~\\AppData\\Local\\Programs\\Python\\Python312\\Lib\\site-packages\\sklearn\\utils\\parallel.py:67\u001b[0m, in \u001b[0;36mParallel.__call__\u001b[1;34m(self, iterable)\u001b[0m\n\u001b[0;32m     62\u001b[0m config \u001b[38;5;241m=\u001b[39m get_config()\n\u001b[0;32m     63\u001b[0m iterable_with_config \u001b[38;5;241m=\u001b[39m (\n\u001b[0;32m     64\u001b[0m     (_with_config(delayed_func, config), args, kwargs)\n\u001b[0;32m     65\u001b[0m     \u001b[38;5;28;01mfor\u001b[39;00m delayed_func, args, kwargs \u001b[38;5;129;01min\u001b[39;00m iterable\n\u001b[0;32m     66\u001b[0m )\n\u001b[1;32m---> 67\u001b[0m \u001b[38;5;28;01mreturn\u001b[39;00m \u001b[38;5;28;43msuper\u001b[39;49m\u001b[43m(\u001b[49m\u001b[43m)\u001b[49m\u001b[38;5;241;43m.\u001b[39;49m\u001b[38;5;21;43m__call__\u001b[39;49m\u001b[43m(\u001b[49m\u001b[43miterable_with_config\u001b[49m\u001b[43m)\u001b[49m\n",
      "File \u001b[1;32m~\\AppData\\Local\\Programs\\Python\\Python312\\Lib\\site-packages\\joblib\\parallel.py:1952\u001b[0m, in \u001b[0;36mParallel.__call__\u001b[1;34m(self, iterable)\u001b[0m\n\u001b[0;32m   1946\u001b[0m \u001b[38;5;66;03m# The first item from the output is blank, but it makes the interpreter\u001b[39;00m\n\u001b[0;32m   1947\u001b[0m \u001b[38;5;66;03m# progress until it enters the Try/Except block of the generator and\u001b[39;00m\n\u001b[0;32m   1948\u001b[0m \u001b[38;5;66;03m# reach the first `yield` statement. This starts the aynchronous\u001b[39;00m\n\u001b[0;32m   1949\u001b[0m \u001b[38;5;66;03m# dispatch of the tasks to the workers.\u001b[39;00m\n\u001b[0;32m   1950\u001b[0m \u001b[38;5;28mnext\u001b[39m(output)\n\u001b[1;32m-> 1952\u001b[0m \u001b[38;5;28;01mreturn\u001b[39;00m output \u001b[38;5;28;01mif\u001b[39;00m \u001b[38;5;28mself\u001b[39m\u001b[38;5;241m.\u001b[39mreturn_generator \u001b[38;5;28;01melse\u001b[39;00m \u001b[38;5;28;43mlist\u001b[39;49m\u001b[43m(\u001b[49m\u001b[43moutput\u001b[49m\u001b[43m)\u001b[49m\n",
      "File \u001b[1;32m~\\AppData\\Local\\Programs\\Python\\Python312\\Lib\\site-packages\\joblib\\parallel.py:1648\u001b[0m, in \u001b[0;36mParallel._get_outputs\u001b[1;34m(self, iterator, pre_dispatch)\u001b[0m\n\u001b[0;32m   1646\u001b[0m \u001b[38;5;28;01mexcept\u001b[39;00m \u001b[38;5;167;01mBaseException\u001b[39;00m:\n\u001b[0;32m   1647\u001b[0m     \u001b[38;5;28mself\u001b[39m\u001b[38;5;241m.\u001b[39m_exception \u001b[38;5;241m=\u001b[39m \u001b[38;5;28;01mTrue\u001b[39;00m\n\u001b[1;32m-> 1648\u001b[0m     \u001b[38;5;28;43mself\u001b[39;49m\u001b[38;5;241;43m.\u001b[39;49m\u001b[43m_abort\u001b[49m\u001b[43m(\u001b[49m\u001b[43m)\u001b[49m\n\u001b[0;32m   1649\u001b[0m     \u001b[38;5;28;01mraise\u001b[39;00m\n\u001b[0;32m   1650\u001b[0m \u001b[38;5;28;01mfinally\u001b[39;00m:\n\u001b[0;32m   1651\u001b[0m     \u001b[38;5;66;03m# Store the unconsumed tasks and terminate the workers if necessary\u001b[39;00m\n",
      "File \u001b[1;32m~\\AppData\\Local\\Programs\\Python\\Python312\\Lib\\site-packages\\joblib\\parallel.py:1559\u001b[0m, in \u001b[0;36mParallel._abort\u001b[1;34m(self)\u001b[0m\n\u001b[0;32m   1554\u001b[0m \u001b[38;5;28;01mif\u001b[39;00m (\u001b[38;5;129;01mnot\u001b[39;00m \u001b[38;5;28mself\u001b[39m\u001b[38;5;241m.\u001b[39m_aborted \u001b[38;5;129;01mand\u001b[39;00m \u001b[38;5;28mhasattr\u001b[39m(backend, \u001b[38;5;124m'\u001b[39m\u001b[38;5;124mabort_everything\u001b[39m\u001b[38;5;124m'\u001b[39m)):\n\u001b[0;32m   1555\u001b[0m     \u001b[38;5;66;03m# If the backend is managed externally we need to make sure\u001b[39;00m\n\u001b[0;32m   1556\u001b[0m     \u001b[38;5;66;03m# to leave it in a working state to allow for future jobs\u001b[39;00m\n\u001b[0;32m   1557\u001b[0m     \u001b[38;5;66;03m# scheduling.\u001b[39;00m\n\u001b[0;32m   1558\u001b[0m     ensure_ready \u001b[38;5;241m=\u001b[39m \u001b[38;5;28mself\u001b[39m\u001b[38;5;241m.\u001b[39m_managed_backend\n\u001b[1;32m-> 1559\u001b[0m     \u001b[43mbackend\u001b[49m\u001b[38;5;241;43m.\u001b[39;49m\u001b[43mabort_everything\u001b[49m\u001b[43m(\u001b[49m\u001b[43mensure_ready\u001b[49m\u001b[38;5;241;43m=\u001b[39;49m\u001b[43mensure_ready\u001b[49m\u001b[43m)\u001b[49m\n\u001b[0;32m   1560\u001b[0m \u001b[38;5;28mself\u001b[39m\u001b[38;5;241m.\u001b[39m_aborted \u001b[38;5;241m=\u001b[39m \u001b[38;5;28;01mTrue\u001b[39;00m\n",
      "File \u001b[1;32m~\\AppData\\Local\\Programs\\Python\\Python312\\Lib\\site-packages\\joblib\\_parallel_backends.py:632\u001b[0m, in \u001b[0;36mLokyBackend.abort_everything\u001b[1;34m(self, ensure_ready)\u001b[0m\n\u001b[0;32m    629\u001b[0m \u001b[38;5;28;01mdef\u001b[39;00m \u001b[38;5;21mabort_everything\u001b[39m(\u001b[38;5;28mself\u001b[39m, ensure_ready\u001b[38;5;241m=\u001b[39m\u001b[38;5;28;01mTrue\u001b[39;00m):\n\u001b[0;32m    630\u001b[0m \u001b[38;5;250m    \u001b[39m\u001b[38;5;124;03m\"\"\"Shutdown the workers and restart a new one with the same parameters\u001b[39;00m\n\u001b[0;32m    631\u001b[0m \u001b[38;5;124;03m    \"\"\"\u001b[39;00m\n\u001b[1;32m--> 632\u001b[0m     \u001b[38;5;28;43mself\u001b[39;49m\u001b[38;5;241;43m.\u001b[39;49m\u001b[43m_workers\u001b[49m\u001b[38;5;241;43m.\u001b[39;49m\u001b[43mterminate\u001b[49m\u001b[43m(\u001b[49m\u001b[43mkill_workers\u001b[49m\u001b[38;5;241;43m=\u001b[39;49m\u001b[38;5;28;43;01mTrue\u001b[39;49;00m\u001b[43m)\u001b[49m\n\u001b[0;32m    633\u001b[0m     \u001b[38;5;28mself\u001b[39m\u001b[38;5;241m.\u001b[39m_workers \u001b[38;5;241m=\u001b[39m \u001b[38;5;28;01mNone\u001b[39;00m\n\u001b[0;32m    635\u001b[0m     \u001b[38;5;28;01mif\u001b[39;00m ensure_ready:\n",
      "File \u001b[1;32m~\\AppData\\Local\\Programs\\Python\\Python312\\Lib\\site-packages\\joblib\\executor.py:75\u001b[0m, in \u001b[0;36mMemmappingExecutor.terminate\u001b[1;34m(self, kill_workers)\u001b[0m\n\u001b[0;32m     73\u001b[0m \u001b[38;5;28;01mdef\u001b[39;00m \u001b[38;5;21mterminate\u001b[39m(\u001b[38;5;28mself\u001b[39m, kill_workers\u001b[38;5;241m=\u001b[39m\u001b[38;5;28;01mFalse\u001b[39;00m):\n\u001b[1;32m---> 75\u001b[0m     \u001b[38;5;28;43mself\u001b[39;49m\u001b[38;5;241;43m.\u001b[39;49m\u001b[43mshutdown\u001b[49m\u001b[43m(\u001b[49m\u001b[43mkill_workers\u001b[49m\u001b[38;5;241;43m=\u001b[39;49m\u001b[43mkill_workers\u001b[49m\u001b[43m)\u001b[49m\n\u001b[0;32m     77\u001b[0m     \u001b[38;5;66;03m# When workers are killed in a brutal manner, they cannot execute the\u001b[39;00m\n\u001b[0;32m     78\u001b[0m     \u001b[38;5;66;03m# finalizer of their shared memmaps. The refcount of those memmaps may\u001b[39;00m\n\u001b[0;32m     79\u001b[0m     \u001b[38;5;66;03m# be off by an unknown number, so instead of decref'ing them, we force\u001b[39;00m\n\u001b[1;32m   (...)\u001b[0m\n\u001b[0;32m     84\u001b[0m     \u001b[38;5;66;03m# with allow_non_empty=True but if we can't, it will be clean up later\u001b[39;00m\n\u001b[0;32m     85\u001b[0m     \u001b[38;5;66;03m# on by the resource_tracker.\u001b[39;00m\n\u001b[0;32m     86\u001b[0m     \u001b[38;5;28;01mwith\u001b[39;00m \u001b[38;5;28mself\u001b[39m\u001b[38;5;241m.\u001b[39m_submit_resize_lock:\n",
      "File \u001b[1;32m~\\AppData\\Local\\Programs\\Python\\Python312\\Lib\\site-packages\\joblib\\externals\\loky\\process_executor.py:1303\u001b[0m, in \u001b[0;36mProcessPoolExecutor.shutdown\u001b[1;34m(self, wait, kill_workers)\u001b[0m\n\u001b[0;32m   1299\u001b[0m \u001b[38;5;28;01mif\u001b[39;00m executor_manager_thread \u001b[38;5;129;01mis\u001b[39;00m \u001b[38;5;129;01mnot\u001b[39;00m \u001b[38;5;28;01mNone\u001b[39;00m \u001b[38;5;129;01mand\u001b[39;00m wait:\n\u001b[0;32m   1300\u001b[0m     \u001b[38;5;66;03m# This locks avoids concurrent join if the interpreter\u001b[39;00m\n\u001b[0;32m   1301\u001b[0m     \u001b[38;5;66;03m# is shutting down.\u001b[39;00m\n\u001b[0;32m   1302\u001b[0m     \u001b[38;5;28;01mwith\u001b[39;00m _global_shutdown_lock:\n\u001b[1;32m-> 1303\u001b[0m         \u001b[43mexecutor_manager_thread\u001b[49m\u001b[38;5;241;43m.\u001b[39;49m\u001b[43mjoin\u001b[49m\u001b[43m(\u001b[49m\u001b[43m)\u001b[49m\n\u001b[0;32m   1304\u001b[0m         _threads_wakeups\u001b[38;5;241m.\u001b[39mpop(executor_manager_thread, \u001b[38;5;28;01mNone\u001b[39;00m)\n\u001b[0;32m   1306\u001b[0m \u001b[38;5;66;03m# To reduce the risk of opening too many files, remove references to\u001b[39;00m\n\u001b[0;32m   1307\u001b[0m \u001b[38;5;66;03m# objects that use file descriptors.\u001b[39;00m\n",
      "File \u001b[1;32m~\\AppData\\Local\\Programs\\Python\\Python312\\Lib\\threading.py:1147\u001b[0m, in \u001b[0;36mThread.join\u001b[1;34m(self, timeout)\u001b[0m\n\u001b[0;32m   1144\u001b[0m     \u001b[38;5;28;01mraise\u001b[39;00m \u001b[38;5;167;01mRuntimeError\u001b[39;00m(\u001b[38;5;124m\"\u001b[39m\u001b[38;5;124mcannot join current thread\u001b[39m\u001b[38;5;124m\"\u001b[39m)\n\u001b[0;32m   1146\u001b[0m \u001b[38;5;28;01mif\u001b[39;00m timeout \u001b[38;5;129;01mis\u001b[39;00m \u001b[38;5;28;01mNone\u001b[39;00m:\n\u001b[1;32m-> 1147\u001b[0m     \u001b[38;5;28;43mself\u001b[39;49m\u001b[38;5;241;43m.\u001b[39;49m\u001b[43m_wait_for_tstate_lock\u001b[49m\u001b[43m(\u001b[49m\u001b[43m)\u001b[49m\n\u001b[0;32m   1148\u001b[0m \u001b[38;5;28;01melse\u001b[39;00m:\n\u001b[0;32m   1149\u001b[0m     \u001b[38;5;66;03m# the behavior of a negative timeout isn't documented, but\u001b[39;00m\n\u001b[0;32m   1150\u001b[0m     \u001b[38;5;66;03m# historically .join(timeout=x) for x<0 has acted as if timeout=0\u001b[39;00m\n\u001b[0;32m   1151\u001b[0m     \u001b[38;5;28mself\u001b[39m\u001b[38;5;241m.\u001b[39m_wait_for_tstate_lock(timeout\u001b[38;5;241m=\u001b[39m\u001b[38;5;28mmax\u001b[39m(timeout, \u001b[38;5;241m0\u001b[39m))\n",
      "File \u001b[1;32m~\\AppData\\Local\\Programs\\Python\\Python312\\Lib\\threading.py:1167\u001b[0m, in \u001b[0;36mThread._wait_for_tstate_lock\u001b[1;34m(self, block, timeout)\u001b[0m\n\u001b[0;32m   1164\u001b[0m     \u001b[38;5;28;01mreturn\u001b[39;00m\n\u001b[0;32m   1166\u001b[0m \u001b[38;5;28;01mtry\u001b[39;00m:\n\u001b[1;32m-> 1167\u001b[0m     \u001b[38;5;28;01mif\u001b[39;00m \u001b[43mlock\u001b[49m\u001b[38;5;241;43m.\u001b[39;49m\u001b[43macquire\u001b[49m\u001b[43m(\u001b[49m\u001b[43mblock\u001b[49m\u001b[43m,\u001b[49m\u001b[43m \u001b[49m\u001b[43mtimeout\u001b[49m\u001b[43m)\u001b[49m:\n\u001b[0;32m   1168\u001b[0m         lock\u001b[38;5;241m.\u001b[39mrelease()\n\u001b[0;32m   1169\u001b[0m         \u001b[38;5;28mself\u001b[39m\u001b[38;5;241m.\u001b[39m_stop()\n",
      "\u001b[1;31mKeyboardInterrupt\u001b[0m: "
     ]
    }
   ],
   "source": [
    "model = xgb.XGBClassifier(\n",
    "    objective=\"multi:softmax\", \n",
    "    random_state=441, \n",
    "    max_depth=10, \n",
    "    max_leaves=70, \n",
    "    learning_rate=0.1, \n",
    "    subsample=0.8, \n",
    "    min_child_weight=10,\n",
    "    n_estimators=200\n",
    "    # colsample_bytree = 0.6,\n",
    "    # gamma = 0.1\n",
    ")\n",
    "kfold = StratifiedKFold(n_splits=5, shuffle=True, random_state=441)\n",
    "\n",
    "param_grid = {\n",
    "    'colsample_bytree':[0.6, 0.7, 0.8],\n",
    "    'gamma':[0, 0.2, 0.4],\n",
    "    'n_estimators':[100, 200, 300]\n",
    "}\n",
    "\n",
    "grid_search = GridSearchCV(model, param_grid, scoring=\"neg_log_loss\", n_jobs=-1, cv=kfold)\n",
    "grid_result = grid_search.fit(X_train, y_train)\n",
    "\n",
    "# print results\n",
    "means = grid_result.cv_results_['mean_test_score']\n",
    "params = grid_result.cv_results_['params']\n",
    "for mean, param in zip(means, params):\n",
    " print(\"%f with: %r\" % (mean, param))\n",
    "\n",
    "print(\"\\nBest: %f using %s\" % (grid_result.best_score_, grid_result.best_params_))"
   ]
  },
  {
   "cell_type": "code",
   "execution_count": null,
   "id": "abe8590b-076d-44b6-babe-94835b9e5f3a",
   "metadata": {},
   "outputs": [],
   "source": []
  },
  {
   "cell_type": "code",
   "execution_count": null,
   "id": "ab136255-8e15-4223-ac6e-bde3374cc296",
   "metadata": {},
   "outputs": [],
   "source": [
    "test = np.c_[ np.ones(11438), prob ]              # add a column\n",
    "\n",
    "for i in range(len(test)):\n",
    "    test[i][0] = i\n",
    "\n",
    "np.savetxt('xgb_test.csv', test, delimiter=',', header=\"id,no answer,very important,quite important,not important,not at all important\", comments=\"\", fmt='%1.4f') "
   ]
  },
  {
   "cell_type": "code",
   "execution_count": null,
   "id": "85e18631-b35b-4f7a-bd3c-1175141387de",
   "metadata": {},
   "outputs": [],
   "source": [
    "importance = best_model.feature_importances_\n",
    "\n",
    "# Sort and standardize\n",
    "names = dataset.getTrain().loc[:,cols].columns\n",
    "max = importance.max()\n",
    "standard_importance = [x / max for x in importance]\n",
    "label = dict(sorted(zip(names, standard_importance),  key=lambda x: x[1])[-20:])\n",
    "\n",
    "plt.barh(list(label.keys()), list(label.values()))\n",
    "plt.xlabel(\"Importance\")\n",
    "plt.title(\"Variable Importance for XGBoost\")\n",
    "plt.show()"
   ]
  },
  {
   "cell_type": "code",
   "execution_count": null,
   "id": "5105d0af-44b8-462e-a30b-6330237f79a1",
   "metadata": {},
   "outputs": [],
   "source": [
    "dict(sorted(zip(names, standard_importance),  key=lambda x: x[1])[-25:]).keys()"
   ]
  }
 ],
 "metadata": {
  "kernelspec": {
   "display_name": "Python 3 (ipykernel)",
   "language": "python",
   "name": "python3"
  },
  "language_info": {
   "codemirror_mode": {
    "name": "ipython",
    "version": 3
   },
   "file_extension": ".py",
   "mimetype": "text/x-python",
   "name": "python",
   "nbconvert_exporter": "python",
   "pygments_lexer": "ipython3",
   "version": "3.12.1"
  }
 },
 "nbformat": 4,
 "nbformat_minor": 5
}
