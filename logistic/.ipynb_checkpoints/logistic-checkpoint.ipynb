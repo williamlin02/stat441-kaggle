{
 "cells": [
  {
   "cell_type": "code",
   "execution_count": null,
   "id": "9082f73b-9529-4f72-8c34-d8578c306024",
   "metadata": {},
   "outputs": [],
   "source": [
    "from pandas import read_csv\n",
    "from sklearn.model_selection import GridSearchCV, KFold, StratifiedKFold\n",
    "from sklearn.ensemble import RandomForestClassifier\n",
    "from sklearn.linear_model import LogisticRegressionCV\n",
    "from sklearn.preprocessing import StandardScaler\n",
    "\n",
    "import xgboost as xgb\n",
    "import matplotlib.pyplot as plt\n",
    "import math\n",
    "import numpy as np"
   ]
  },
  {
   "cell_type": "code",
   "execution_count": null,
   "id": "34e17414-4104-4ddc-a38c-7ce7d4740462",
   "metadata": {},
   "outputs": [],
   "source": [
    "X_train_data = read_csv('../X_train_nostring.csv')\n",
    "X_train_data.fillna(-3, inplace=True)\n",
    "X_train = X_train_data.values[:,1:]\n",
    "\n",
    "y_train_data = read_csv('../y_train.csv')\n",
    "y_train = y_train_data.values[:,1]\n",
    "y_train = y_train_data.values[:,1]\n",
    "for i in range(len(y_train)):\n",
    "    if y_train[i] == -1:\n",
    "        y_train[i] = 0\n",
    "\n",
    "scaler = StandardScaler()\n",
    "\n",
    "X_train = scaler.fit_transform(X_train, y_train)"
   ]
  },
  {
   "cell_type": "code",
   "execution_count": null,
   "id": "712fe639-6d9f-4a46-83f3-822264dd3cbe",
   "metadata": {},
   "outputs": [],
   "source": [
    "X_test_data = read_csv('../X_test_nostring.csv')\n",
    "X_test_data.fillna(-3, inplace=True)\n",
    "X_test = X_test_data.values[:,1:]\n",
    "\n",
    "X_test = scaler.fit_transform(X_test)"
   ]
  },
  {
   "cell_type": "code",
   "execution_count": null,
   "id": "0002e9f9-b094-4893-a8a5-cb9823590342",
   "metadata": {},
   "outputs": [],
   "source": [
    "# Logistic regression\n",
    "lmodel = LogisticRegressionCV(random_state=441, cv=5, max_iter=1000, scoring=\"neg_log_loss\")\n",
    "lmodel.fit(X_train, y_train)"
   ]
  },
  {
   "cell_type": "code",
   "execution_count": null,
   "id": "7350c5b7-0527-47cd-82f9-28f79797d946",
   "metadata": {},
   "outputs": [],
   "source": [
    "lreg_loss = lmodel.score(X_train, y_train)\n",
    "print(lreg_loss)\n",
    "logProb = lmodel.predict_proba(X_test)"
   ]
  },
  {
   "cell_type": "code",
   "execution_count": null,
   "id": "623dbb47-1d83-4e3a-aece-2a3db0c1cb97",
   "metadata": {},
   "outputs": [],
   "source": [
    "logProb = np.c_[ np.ones(11438), logProb ]              # add a column\n",
    "\n",
    "for i in range(len(logProb)):\n",
    "    logProb[i][0] = i\n",
    "\n",
    "np.savetxt('logistic.csv', logProb, delimiter=',', header=\"id,no answer,very important,quite important,not important,not at all important\", comments=\"\", fmt='%1.4f') "
   ]
  }
 ],
 "metadata": {
  "kernelspec": {
   "display_name": "Python 3 (ipykernel)",
   "language": "python",
   "name": "python3"
  },
  "language_info": {
   "codemirror_mode": {
    "name": "ipython",
    "version": 3
   },
   "file_extension": ".py",
   "mimetype": "text/x-python",
   "name": "python",
   "nbconvert_exporter": "python",
   "pygments_lexer": "ipython3",
   "version": "3.12.1"
  }
 },
 "nbformat": 4,
 "nbformat_minor": 5
}
