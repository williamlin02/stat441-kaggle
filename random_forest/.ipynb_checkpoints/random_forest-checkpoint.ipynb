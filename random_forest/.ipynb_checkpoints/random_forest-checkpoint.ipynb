{
 "cells": [
  {
   "cell_type": "code",
   "execution_count": 1,
   "id": "ee4d4911-80f4-46a6-92c4-7efd2f9cc3b9",
   "metadata": {},
   "outputs": [],
   "source": [
    "from pandas import read_csv\n",
    "from sklearn.model_selection import GridSearchCV, KFold, StratifiedKFold\n",
    "from sklearn.ensemble import RandomForestClassifier\n",
    "from sklearn.linear_model import LogisticRegressionCV\n",
    "from sklearn.preprocessing import StandardScaler\n",
    "\n",
    "import matplotlib.pyplot as plt\n",
    "import math\n",
    "import numpy as np"
   ]
  },
  {
   "cell_type": "code",
   "execution_count": 2,
   "id": "a92f9338-03fe-450a-9829-27eb88744f1c",
   "metadata": {},
   "outputs": [],
   "source": [
    "X_train_data = read_csv('../X_train_nostring.csv')\n",
    "# X_train_data.fillna(-3, inplace=True)\n",
    "X_train = X_train_data.values[:,1:]\n",
    "\n",
    "y_train_data = read_csv('../y_train.csv')\n",
    "y_train = y_train_data.values[:,1]\n",
    "for i in range(len(y_train)):\n",
    "    if y_train[i] == -1:\n",
    "        y_train[i] = 0\n",
    "\n",
    "# scaler = StandardScaler()\n",
    "\n",
    "# X_train = scaler.fit_transform(X_train, y_train)"
   ]
  },
  {
   "cell_type": "code",
   "execution_count": 3,
   "id": "32fddc4b-0c28-4af2-b6fd-95797a522d3a",
   "metadata": {},
   "outputs": [],
   "source": [
    "X_test_data = read_csv('../X_test_nostring.csv')\n",
    "# X_test_data.fillna(-3, inplace=True)\n",
    "X_test = X_test_data.values[:,1:]\n",
    "\n",
    "# X_test = scaler.fit_transform(X_test)"
   ]
  },
  {
   "cell_type": "code",
   "execution_count": 4,
   "id": "4c1ce0be-a5b1-4a17-b311-8f08c692c914",
   "metadata": {},
   "outputs": [],
   "source": [
    "rfmodel = RandomForestClassifier(random_state=441)\n",
    "param_grid = { \n",
    "    'n_estimators': [200, 500],\n",
    "    'max_features': ['sqrt', 'log2'],\n",
    "    'max_depth' : [4,5,6,7,8],\n",
    "    'criterion' :['gini', 'entropy', 'log_loss']\n",
    "}"
   ]
  },
  {
   "cell_type": "code",
   "execution_count": 5,
   "id": "89e3795b-63fa-4850-ba79-c692a03d2051",
   "metadata": {},
   "outputs": [
    {
     "name": "stderr",
     "output_type": "stream",
     "text": [
      "C:\\Users\\William\\AppData\\Local\\Programs\\Python\\Python312\\Lib\\site-packages\\sklearn\\model_selection\\_validation.py:547: FitFailedWarning: \n",
      "150 fits failed out of a total of 450.\n",
      "The score on these train-test partitions for these parameters will be set to nan.\n",
      "If these failures are not expected, you can try to debug them by setting error_score='raise'.\n",
      "\n",
      "Below are more details about the failures:\n",
      "--------------------------------------------------------------------------------\n",
      "150 fits failed with the following error:\n",
      "Traceback (most recent call last):\n",
      "  File \"C:\\Users\\William\\AppData\\Local\\Programs\\Python\\Python312\\Lib\\site-packages\\sklearn\\model_selection\\_validation.py\", line 895, in _fit_and_score\n",
      "    estimator.fit(X_train, y_train, **fit_params)\n",
      "  File \"C:\\Users\\William\\AppData\\Local\\Programs\\Python\\Python312\\Lib\\site-packages\\sklearn\\base.py\", line 1467, in wrapper\n",
      "    estimator._validate_params()\n",
      "  File \"C:\\Users\\William\\AppData\\Local\\Programs\\Python\\Python312\\Lib\\site-packages\\sklearn\\base.py\", line 666, in _validate_params\n",
      "    validate_parameter_constraints(\n",
      "  File \"C:\\Users\\William\\AppData\\Local\\Programs\\Python\\Python312\\Lib\\site-packages\\sklearn\\utils\\_param_validation.py\", line 95, in validate_parameter_constraints\n",
      "    raise InvalidParameterError(\n",
      "sklearn.utils._param_validation.InvalidParameterError: The 'max_features' parameter of RandomForestClassifier must be an int in the range [1, inf), a float in the range (0.0, 1.0], a str among {'sqrt', 'log2'} or None. Got 'auto' instead.\n",
      "\n",
      "  warnings.warn(some_fits_failed_message, FitFailedWarning)\n",
      "C:\\Users\\William\\AppData\\Local\\Programs\\Python\\Python312\\Lib\\site-packages\\sklearn\\model_selection\\_search.py:1051: UserWarning: One or more of the test scores are non-finite: [        nan         nan -1.11804109 -1.11834003 -1.20124244 -1.20232925\n",
      "         nan         nan -1.08397144 -1.08409601 -1.16395104 -1.16400863\n",
      "         nan         nan -1.05740375 -1.05646611 -1.13942223 -1.1391715\n",
      "         nan         nan -1.03629469 -1.03537311 -1.11770285 -1.11595197\n",
      "         nan         nan -1.01841273 -1.01679006 -1.0967462  -1.09664426\n",
      "         nan         nan -1.11833788 -1.11878134 -1.20135116 -1.20192028\n",
      "         nan         nan -1.084184   -1.08390227 -1.16213583 -1.1624898\n",
      "         nan         nan -1.05640749 -1.05595324 -1.13950571 -1.13831544\n",
      "         nan         nan -1.03553952 -1.03368501 -1.1173466  -1.1154926\n",
      "         nan         nan -1.0161571  -1.01559522 -1.09649949 -1.09454735\n",
      "         nan         nan -1.11833788 -1.11878134 -1.20135116 -1.20192028\n",
      "         nan         nan -1.084184   -1.08390227 -1.16213583 -1.1624898\n",
      "         nan         nan -1.05640749 -1.05595324 -1.13950571 -1.13831544\n",
      "         nan         nan -1.03553952 -1.03368501 -1.1173466  -1.1154926\n",
      "         nan         nan -1.0161571  -1.01559522 -1.09649949 -1.09454735]\n",
      "  warnings.warn(\n"
     ]
    },
    {
     "name": "stdout",
     "output_type": "stream",
     "text": [
      "nan with: {'criterion': 'gini', 'max_depth': 4, 'max_features': 'auto', 'n_estimators': 200}\n",
      "nan with: {'criterion': 'gini', 'max_depth': 4, 'max_features': 'auto', 'n_estimators': 500}\n",
      "-1.118041 with: {'criterion': 'gini', 'max_depth': 4, 'max_features': 'sqrt', 'n_estimators': 200}\n",
      "-1.118340 with: {'criterion': 'gini', 'max_depth': 4, 'max_features': 'sqrt', 'n_estimators': 500}\n",
      "-1.201242 with: {'criterion': 'gini', 'max_depth': 4, 'max_features': 'log2', 'n_estimators': 200}\n",
      "-1.202329 with: {'criterion': 'gini', 'max_depth': 4, 'max_features': 'log2', 'n_estimators': 500}\n",
      "nan with: {'criterion': 'gini', 'max_depth': 5, 'max_features': 'auto', 'n_estimators': 200}\n",
      "nan with: {'criterion': 'gini', 'max_depth': 5, 'max_features': 'auto', 'n_estimators': 500}\n",
      "-1.083971 with: {'criterion': 'gini', 'max_depth': 5, 'max_features': 'sqrt', 'n_estimators': 200}\n",
      "-1.084096 with: {'criterion': 'gini', 'max_depth': 5, 'max_features': 'sqrt', 'n_estimators': 500}\n",
      "-1.163951 with: {'criterion': 'gini', 'max_depth': 5, 'max_features': 'log2', 'n_estimators': 200}\n",
      "-1.164009 with: {'criterion': 'gini', 'max_depth': 5, 'max_features': 'log2', 'n_estimators': 500}\n",
      "nan with: {'criterion': 'gini', 'max_depth': 6, 'max_features': 'auto', 'n_estimators': 200}\n",
      "nan with: {'criterion': 'gini', 'max_depth': 6, 'max_features': 'auto', 'n_estimators': 500}\n",
      "-1.057404 with: {'criterion': 'gini', 'max_depth': 6, 'max_features': 'sqrt', 'n_estimators': 200}\n",
      "-1.056466 with: {'criterion': 'gini', 'max_depth': 6, 'max_features': 'sqrt', 'n_estimators': 500}\n",
      "-1.139422 with: {'criterion': 'gini', 'max_depth': 6, 'max_features': 'log2', 'n_estimators': 200}\n",
      "-1.139172 with: {'criterion': 'gini', 'max_depth': 6, 'max_features': 'log2', 'n_estimators': 500}\n",
      "nan with: {'criterion': 'gini', 'max_depth': 7, 'max_features': 'auto', 'n_estimators': 200}\n",
      "nan with: {'criterion': 'gini', 'max_depth': 7, 'max_features': 'auto', 'n_estimators': 500}\n",
      "-1.036295 with: {'criterion': 'gini', 'max_depth': 7, 'max_features': 'sqrt', 'n_estimators': 200}\n",
      "-1.035373 with: {'criterion': 'gini', 'max_depth': 7, 'max_features': 'sqrt', 'n_estimators': 500}\n",
      "-1.117703 with: {'criterion': 'gini', 'max_depth': 7, 'max_features': 'log2', 'n_estimators': 200}\n",
      "-1.115952 with: {'criterion': 'gini', 'max_depth': 7, 'max_features': 'log2', 'n_estimators': 500}\n",
      "nan with: {'criterion': 'gini', 'max_depth': 8, 'max_features': 'auto', 'n_estimators': 200}\n",
      "nan with: {'criterion': 'gini', 'max_depth': 8, 'max_features': 'auto', 'n_estimators': 500}\n",
      "-1.018413 with: {'criterion': 'gini', 'max_depth': 8, 'max_features': 'sqrt', 'n_estimators': 200}\n",
      "-1.016790 with: {'criterion': 'gini', 'max_depth': 8, 'max_features': 'sqrt', 'n_estimators': 500}\n",
      "-1.096746 with: {'criterion': 'gini', 'max_depth': 8, 'max_features': 'log2', 'n_estimators': 200}\n",
      "-1.096644 with: {'criterion': 'gini', 'max_depth': 8, 'max_features': 'log2', 'n_estimators': 500}\n",
      "nan with: {'criterion': 'entropy', 'max_depth': 4, 'max_features': 'auto', 'n_estimators': 200}\n",
      "nan with: {'criterion': 'entropy', 'max_depth': 4, 'max_features': 'auto', 'n_estimators': 500}\n",
      "-1.118338 with: {'criterion': 'entropy', 'max_depth': 4, 'max_features': 'sqrt', 'n_estimators': 200}\n",
      "-1.118781 with: {'criterion': 'entropy', 'max_depth': 4, 'max_features': 'sqrt', 'n_estimators': 500}\n",
      "-1.201351 with: {'criterion': 'entropy', 'max_depth': 4, 'max_features': 'log2', 'n_estimators': 200}\n",
      "-1.201920 with: {'criterion': 'entropy', 'max_depth': 4, 'max_features': 'log2', 'n_estimators': 500}\n",
      "nan with: {'criterion': 'entropy', 'max_depth': 5, 'max_features': 'auto', 'n_estimators': 200}\n",
      "nan with: {'criterion': 'entropy', 'max_depth': 5, 'max_features': 'auto', 'n_estimators': 500}\n",
      "-1.084184 with: {'criterion': 'entropy', 'max_depth': 5, 'max_features': 'sqrt', 'n_estimators': 200}\n",
      "-1.083902 with: {'criterion': 'entropy', 'max_depth': 5, 'max_features': 'sqrt', 'n_estimators': 500}\n",
      "-1.162136 with: {'criterion': 'entropy', 'max_depth': 5, 'max_features': 'log2', 'n_estimators': 200}\n",
      "-1.162490 with: {'criterion': 'entropy', 'max_depth': 5, 'max_features': 'log2', 'n_estimators': 500}\n",
      "nan with: {'criterion': 'entropy', 'max_depth': 6, 'max_features': 'auto', 'n_estimators': 200}\n",
      "nan with: {'criterion': 'entropy', 'max_depth': 6, 'max_features': 'auto', 'n_estimators': 500}\n",
      "-1.056407 with: {'criterion': 'entropy', 'max_depth': 6, 'max_features': 'sqrt', 'n_estimators': 200}\n",
      "-1.055953 with: {'criterion': 'entropy', 'max_depth': 6, 'max_features': 'sqrt', 'n_estimators': 500}\n",
      "-1.139506 with: {'criterion': 'entropy', 'max_depth': 6, 'max_features': 'log2', 'n_estimators': 200}\n",
      "-1.138315 with: {'criterion': 'entropy', 'max_depth': 6, 'max_features': 'log2', 'n_estimators': 500}\n",
      "nan with: {'criterion': 'entropy', 'max_depth': 7, 'max_features': 'auto', 'n_estimators': 200}\n",
      "nan with: {'criterion': 'entropy', 'max_depth': 7, 'max_features': 'auto', 'n_estimators': 500}\n",
      "-1.035540 with: {'criterion': 'entropy', 'max_depth': 7, 'max_features': 'sqrt', 'n_estimators': 200}\n",
      "-1.033685 with: {'criterion': 'entropy', 'max_depth': 7, 'max_features': 'sqrt', 'n_estimators': 500}\n",
      "-1.117347 with: {'criterion': 'entropy', 'max_depth': 7, 'max_features': 'log2', 'n_estimators': 200}\n",
      "-1.115493 with: {'criterion': 'entropy', 'max_depth': 7, 'max_features': 'log2', 'n_estimators': 500}\n",
      "nan with: {'criterion': 'entropy', 'max_depth': 8, 'max_features': 'auto', 'n_estimators': 200}\n",
      "nan with: {'criterion': 'entropy', 'max_depth': 8, 'max_features': 'auto', 'n_estimators': 500}\n",
      "-1.016157 with: {'criterion': 'entropy', 'max_depth': 8, 'max_features': 'sqrt', 'n_estimators': 200}\n",
      "-1.015595 with: {'criterion': 'entropy', 'max_depth': 8, 'max_features': 'sqrt', 'n_estimators': 500}\n",
      "-1.096499 with: {'criterion': 'entropy', 'max_depth': 8, 'max_features': 'log2', 'n_estimators': 200}\n",
      "-1.094547 with: {'criterion': 'entropy', 'max_depth': 8, 'max_features': 'log2', 'n_estimators': 500}\n",
      "nan with: {'criterion': 'log_loss', 'max_depth': 4, 'max_features': 'auto', 'n_estimators': 200}\n",
      "nan with: {'criterion': 'log_loss', 'max_depth': 4, 'max_features': 'auto', 'n_estimators': 500}\n",
      "-1.118338 with: {'criterion': 'log_loss', 'max_depth': 4, 'max_features': 'sqrt', 'n_estimators': 200}\n",
      "-1.118781 with: {'criterion': 'log_loss', 'max_depth': 4, 'max_features': 'sqrt', 'n_estimators': 500}\n",
      "-1.201351 with: {'criterion': 'log_loss', 'max_depth': 4, 'max_features': 'log2', 'n_estimators': 200}\n",
      "-1.201920 with: {'criterion': 'log_loss', 'max_depth': 4, 'max_features': 'log2', 'n_estimators': 500}\n",
      "nan with: {'criterion': 'log_loss', 'max_depth': 5, 'max_features': 'auto', 'n_estimators': 200}\n",
      "nan with: {'criterion': 'log_loss', 'max_depth': 5, 'max_features': 'auto', 'n_estimators': 500}\n",
      "-1.084184 with: {'criterion': 'log_loss', 'max_depth': 5, 'max_features': 'sqrt', 'n_estimators': 200}\n",
      "-1.083902 with: {'criterion': 'log_loss', 'max_depth': 5, 'max_features': 'sqrt', 'n_estimators': 500}\n",
      "-1.162136 with: {'criterion': 'log_loss', 'max_depth': 5, 'max_features': 'log2', 'n_estimators': 200}\n",
      "-1.162490 with: {'criterion': 'log_loss', 'max_depth': 5, 'max_features': 'log2', 'n_estimators': 500}\n",
      "nan with: {'criterion': 'log_loss', 'max_depth': 6, 'max_features': 'auto', 'n_estimators': 200}\n",
      "nan with: {'criterion': 'log_loss', 'max_depth': 6, 'max_features': 'auto', 'n_estimators': 500}\n",
      "-1.056407 with: {'criterion': 'log_loss', 'max_depth': 6, 'max_features': 'sqrt', 'n_estimators': 200}\n",
      "-1.055953 with: {'criterion': 'log_loss', 'max_depth': 6, 'max_features': 'sqrt', 'n_estimators': 500}\n",
      "-1.139506 with: {'criterion': 'log_loss', 'max_depth': 6, 'max_features': 'log2', 'n_estimators': 200}\n",
      "-1.138315 with: {'criterion': 'log_loss', 'max_depth': 6, 'max_features': 'log2', 'n_estimators': 500}\n",
      "nan with: {'criterion': 'log_loss', 'max_depth': 7, 'max_features': 'auto', 'n_estimators': 200}\n",
      "nan with: {'criterion': 'log_loss', 'max_depth': 7, 'max_features': 'auto', 'n_estimators': 500}\n",
      "-1.035540 with: {'criterion': 'log_loss', 'max_depth': 7, 'max_features': 'sqrt', 'n_estimators': 200}\n",
      "-1.033685 with: {'criterion': 'log_loss', 'max_depth': 7, 'max_features': 'sqrt', 'n_estimators': 500}\n",
      "-1.117347 with: {'criterion': 'log_loss', 'max_depth': 7, 'max_features': 'log2', 'n_estimators': 200}\n",
      "-1.115493 with: {'criterion': 'log_loss', 'max_depth': 7, 'max_features': 'log2', 'n_estimators': 500}\n",
      "nan with: {'criterion': 'log_loss', 'max_depth': 8, 'max_features': 'auto', 'n_estimators': 200}\n",
      "nan with: {'criterion': 'log_loss', 'max_depth': 8, 'max_features': 'auto', 'n_estimators': 500}\n",
      "-1.016157 with: {'criterion': 'log_loss', 'max_depth': 8, 'max_features': 'sqrt', 'n_estimators': 200}\n",
      "-1.015595 with: {'criterion': 'log_loss', 'max_depth': 8, 'max_features': 'sqrt', 'n_estimators': 500}\n",
      "-1.096499 with: {'criterion': 'log_loss', 'max_depth': 8, 'max_features': 'log2', 'n_estimators': 200}\n",
      "-1.094547 with: {'criterion': 'log_loss', 'max_depth': 8, 'max_features': 'log2', 'n_estimators': 500}\n",
      "\n",
      "Best: -1.015595 using {'criterion': 'entropy', 'max_depth': 8, 'max_features': 'sqrt', 'n_estimators': 500}\n"
     ]
    }
   ],
   "source": [
    "grid_search = GridSearchCV(estimator=rfmodel, param_grid=param_grid, scoring=\"neg_log_loss\", cv=5)\n",
    "grid_result = grid_search.fit(X_train, y_train)\n",
    "\n",
    "#Best: -1.015595 using {'criterion': 'entropy', 'max_depth': 8, 'max_features': 'sqrt', 'n_estimators': 500}\n",
    "\n",
    "# print results\n",
    "means = grid_result.cv_results_['mean_test_score']\n",
    "params = grid_result.cv_results_['params']\n",
    "for mean, param in zip(means, params):\n",
    "    print(\"%f with: %r\" % (mean, param))\n",
    "\n",
    "print(\"\\nBest: %f using %s\" % (grid_result.best_score_, grid_result.best_params_))"
   ]
  },
  {
   "cell_type": "code",
   "execution_count": 6,
   "id": "aba9a740-105f-43eb-87ec-ddfb170714cf",
   "metadata": {},
   "outputs": [],
   "source": [
    "rfmodel = RandomForestClassifier(random_state=441, oob_score=True, criterion = 'log_loss')\n",
    "rfmodel.fit(X_train, y_train)\n",
    "rf_acc = rfmodel.oob_score_\n",
    "rfimportance = rfmodel.feature_importances_\n",
    "\n"
   ]
  },
  {
   "cell_type": "code",
   "execution_count": 7,
   "id": "985e2da9-4029-4617-ad9a-c0ccbc30061e",
   "metadata": {},
   "outputs": [
    {
     "data": {
      "image/png": "[encoded data removed]",
      "text/plain": [
       "<Figure size 640x480 with 1 Axes>"
      ]
     },
     "metadata": {},
     "output_type": "display_data"
    }
   ],
   "source": [
    "# Sort and standardize\n",
    "names = X_train_data.columns[1:]\n",
    "m = rfimportance.max()\n",
    "standard = [x / m for x in rfimportance]\n",
    "label = dict(sorted(zip(names, standard),  key=lambda x: x[1])[-20:])\n",
    "\n",
    "plt.barh(list(label.keys()), list(label.values()))\n",
    "plt.xlabel(\"Importance\")\n",
    "plt.title(\"Variable Importance for Random Forest\")\n",
    "plt.show()"
   ]
  },
  {
   "cell_type": "code",
   "execution_count": 8,
   "id": "a1ae835c-7640-4306-95c6-1842f5320489",
   "metadata": {},
   "outputs": [],
   "source": [
    "prob = rfmodel.predict_proba(X_test)"
   ]
  },
  {
   "cell_type": "code",
   "execution_count": 9,
   "id": "82a3855f-461a-4049-8e46-67764f43f37a",
   "metadata": {},
   "outputs": [],
   "source": [
    "test = np.c_[ np.ones(11438), prob ]              # add a column\n",
    "\n",
    "for i in range(len(test)):\n",
    "    test[i][0] = i\n",
    "\n",
    "np.savetxt('random_forest.csv', test, delimiter=',', header=\"id,no answer,very important,quite important,not important,not at all important\", comments=\"\", fmt='%1.4f') "
   ]
  },
  {
   "cell_type": "code",
   "execution_count": null,
   "id": "11a40ad4-6a46-4759-942d-79c51a8e6e91",
   "metadata": {},
   "outputs": [],
   "source": []
  },
  {
   "cell_type": "code",
   "execution_count": 10,
   "id": "9747352e-ce2a-42b5-9ebe-c6d5eb5cf5ab",
   "metadata": {},
   "outputs": [
    {
     "name": "stdout",
     "output_type": "stream",
     "text": [
      "id          0\n",
      "year        0\n",
      "fw_start    0\n",
      "fw_end      0\n",
      "country     0\n",
      "           ..\n",
      "v279c_r     0\n",
      "v279d_r     0\n",
      "v280        0\n",
      "v281a_r     0\n",
      "v282        0\n",
      "Length: 430, dtype: int64\n"
     ]
    }
   ],
   "source": [
    "print(X_train_data.isnull().sum())\n"
   ]
  }
 ],
 "metadata": {
  "kernelspec": {
   "display_name": "Python 3 (ipykernel)",
   "language": "python",
   "name": "python3"
  },
  "language_info": {
   "codemirror_mode": {
    "name": "ipython",
    "version": 3
   },
   "file_extension": ".py",
   "mimetype": "text/x-python",
   "name": "python",
   "nbconvert_exporter": "python",
   "pygments_lexer": "ipython3",
   "version": "3.12.1"
  }
 },
 "nbformat": 4,
 "nbformat_minor": 5
}
